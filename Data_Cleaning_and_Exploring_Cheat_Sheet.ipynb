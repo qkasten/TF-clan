{
  "nbformat": 4,
  "nbformat_minor": 0,
  "metadata": {
    "colab": {
      "name": "Data Cleaning and Exploring Cheat Sheet.ipynb",
      "provenance": [],
      "include_colab_link": true
    },
    "kernelspec": {
      "name": "python3",
      "display_name": "Python 3"
    }
  },
  "cells": [
    {
      "cell_type": "markdown",
      "metadata": {
        "id": "view-in-github",
        "colab_type": "text"
      },
      "source": [
        "<a href=\"https://colab.research.google.com/github/qkasten/TF-clan/blob/main/Data_Cleaning_and_Exploring_Cheat_Sheet.ipynb\" target=\"_parent\"><img src=\"https://colab.research.google.com/assets/colab-badge.svg\" alt=\"Open In Colab\"/></a>"
      ]
    },
    {
      "cell_type": "code",
      "metadata": {
        "id": "xQA7x27gzv3m"
      },
      "source": [
        "#basic importing and aliasing\n",
        "import numpy as np\n",
        "import pandas as pd"
      ],
      "execution_count": null,
      "outputs": []
    },
    {
      "cell_type": "code",
      "metadata": {
        "id": "eyOnimMTz5Ox"
      },
      "source": [
        "#prevent dataframe truncation by adjusting pandas display options\n",
        "pd.set_option('display.max_columns', None)\n",
        "pd.set_option('display.max_rows', None)"
      ],
      "execution_count": null,
      "outputs": []
    },
    {
      "cell_type": "markdown",
      "metadata": {
        "id": "_y6oGspVyu6x"
      },
      "source": [
        "#Reading in Data"
      ]
    },
    {
      "cell_type": "code",
      "metadata": {
        "id": "ackMLuMXyWO5"
      },
      "source": [
        "#read in csv\n",
        "df = pd.read_csv('some_url_or_filepath.csv')\n",
        "print(df.head())\n",
        "\n",
        "#read in json\n",
        "#json load tutorial: https://chrisalbon.com/python/data_wrangling/load_json_file_into_pandas/\n",
        "df = pd.read_json('some_url_or_filepath.json')\n",
        "print(df.head())\n",
        "\n",
        "#read in tsv\n",
        "df = pd.read_csv('some_url_or_filepath.tsv', delimiter='\\t', encoding='utf-8')\n",
        "print(df.head())"
      ],
      "execution_count": null,
      "outputs": []
    },
    {
      "cell_type": "code",
      "metadata": {
        "id": "wxHviN8_zT81"
      },
      "source": [
        "#uploading a file\n",
        "from google.colab import files\n",
        "upload = files.upload()"
      ],
      "execution_count": null,
      "outputs": []
    },
    {
      "cell_type": "code",
      "metadata": {
        "id": "RYtlcXSj0uCq"
      },
      "source": [
        "#renaming headers during upload\n",
        "url = 'some_url_or_filepath.csv'\n",
        "df = pd.read_csv(url,names=['column1', 'column2', 'column3'])"
      ],
      "execution_count": null,
      "outputs": []
    },
    {
      "cell_type": "markdown",
      "metadata": {
        "id": "WwAmDJEB1Frz"
      },
      "source": [
        "#Data Cleaning"
      ]
    },
    {
      "cell_type": "code",
      "metadata": {
        "id": "EbWFBUWd1yKa"
      },
      "source": [
        "#rename columns after reading in\n",
        "df = pd.read_csv(df, header=None)\n",
        "feature_map = {0: 'column1',\n",
        "               1: 'column2',\n",
        "               2: 'column3'}\n",
        "\n",
        "df.rename(columns=feature_map, inplace=True)"
      ],
      "execution_count": null,
      "outputs": []
    },
    {
      "cell_type": "code",
      "metadata": {
        "id": "Jb5b7-HA1OH8"
      },
      "source": [
        "#replacing values in a data set with a new value\n",
        "df = df.replace('?', np.NaN)"
      ],
      "execution_count": null,
      "outputs": []
    },
    {
      "cell_type": "code",
      "metadata": {
        "id": "mTnJ_yboDkkS"
      },
      "source": [
        "#setting categories to type 'category' for faster operations\n",
        "df['column1'] = df['column1'].astype('category')"
      ],
      "execution_count": null,
      "outputs": []
    },
    {
      "cell_type": "code",
      "metadata": {
        "id": "-qgpc344EMzv"
      },
      "source": [
        "#label encoding\n",
        "df['column1'] = df['column1'].cat.codes"
      ],
      "execution_count": null,
      "outputs": []
    },
    {
      "cell_type": "code",
      "metadata": {
        "id": "cs8A1bGnFH_m"
      },
      "source": [
        "#one hot encoding\n",
        "df = pd.get_dummies(df, columns=['column1'], prefix = ['column1'])\n",
        "df.head()"
      ],
      "execution_count": null,
      "outputs": []
    },
    {
      "cell_type": "code",
      "metadata": {
        "id": "bVKr2EI7FwFB"
      },
      "source": [
        "!pip install category_encoders as ce\n",
        "#binary encoding\n",
        "encoder = ce.BinaryEncoder(cols=['column1'])\n",
        "df = encoder.fit_transform(df)"
      ],
      "execution_count": null,
      "outputs": []
    },
    {
      "cell_type": "code",
      "metadata": {
        "id": "nh8Hl6t37bih"
      },
      "source": [
        "#filling null values\n",
        "df.fillna(0) #fill nulls with a value\n",
        "df.fillna(method='ffill') #fill based on a method chosen from  {‘backfill’, ‘bfill’, ‘pad’, ‘ffill’, None}\n",
        "df.fillna(value={'A': 0, 'B': 1, 'C': 2, 'D': 3}) #fill each feature with a different value\n",
        "df.fillna(value=values, limit=1) #fill a set number of nulls"
      ],
      "execution_count": null,
      "outputs": []
    },
    {
      "cell_type": "code",
      "metadata": {
        "id": "FZBtArbh8h6h"
      },
      "source": [
        "#dropping null values\n",
        "df.dropna() #drop rows\n",
        "df.dropna(axis='columns') #drop columns\n",
        "df.dropna(axis='rows', thresh=3) # drop rows with fewer non-nulls than the threshhold"
      ],
      "execution_count": null,
      "outputs": []
    },
    {
      "cell_type": "code",
      "metadata": {
        "id": "-cH0DqVn2iyi"
      },
      "source": [
        "#add a column\n",
        "df['new feature'] = 'Value' #new column with same value for all rows\n",
        "df['new feature'] = df2['df2 feature'] #new column from another dataframe column"
      ],
      "execution_count": null,
      "outputs": []
    },
    {
      "cell_type": "code",
      "metadata": {
        "id": "bcpPRe87F8OQ"
      },
      "source": [
        "#drop a column or row\n",
        "df.drop('column1', axis='columns')"
      ],
      "execution_count": null,
      "outputs": []
    },
    {
      "cell_type": "code",
      "metadata": {
        "id": "yYUg0b4F255o"
      },
      "source": [
        "#combine two data frames\n",
        "df3 = df1.append(df2)"
      ],
      "execution_count": null,
      "outputs": []
    },
    {
      "cell_type": "code",
      "metadata": {
        "id": "xTAcOPXDEop0"
      },
      "source": [
        "#use np.where to encode a category based on values in another category\n",
        "df['column1'] = np.where(df['column2'].str.contains('value'), 1, 0)"
      ],
      "execution_count": null,
      "outputs": []
    },
    {
      "cell_type": "code",
      "metadata": {
        "id": "sETHoav_4FiZ"
      },
      "source": [
        "#loop to impute values based on whether they are numeric or categorical\n",
        "from pandas.api.types import is_numeric_dtype\n",
        "\n",
        "for column in df:\n",
        "  if is_numeric_dtype(df[column]):\n",
        "    #do something with the numeric features here\n",
        "  else:\n",
        "    #do something with the categorical features here"
      ],
      "execution_count": null,
      "outputs": []
    },
    {
      "cell_type": "code",
      "metadata": {
        "id": "jU5zi2toIHkF"
      },
      "source": [
        "#Cast a column to datetime\n",
        "df['column1'] = pd.to_datetime(df['column1'])"
      ],
      "execution_count": null,
      "outputs": []
    },
    {
      "cell_type": "code",
      "metadata": {
        "id": "RFFUdOPUByqB"
      },
      "source": [
        "#typecasting a column\n",
        "df['column1'] = df['column1'].astype(int)"
      ],
      "execution_count": null,
      "outputs": []
    },
    {
      "cell_type": "code",
      "metadata": {
        "id": "XQ7abxV8BMOx"
      },
      "source": [
        "#drop a row or column\n",
        "df = df.drop(['column1','column2'], axis='columns')"
      ],
      "execution_count": null,
      "outputs": []
    },
    {
      "cell_type": "code",
      "metadata": {
        "id": "GymL2QTnCNSc"
      },
      "source": [
        "#set a column as the index\n",
        "df = df.set_index('column1')"
      ],
      "execution_count": null,
      "outputs": []
    },
    {
      "cell_type": "markdown",
      "metadata": {
        "id": "8i3Z3Xju1Jml"
      },
      "source": [
        "#Exploring Data"
      ]
    },
    {
      "cell_type": "code",
      "metadata": {
        "id": "PLqtb0P11bT1"
      },
      "source": [
        "#show the first X rows in the dataframe, no value defaults to 5\n",
        "df.head(1)"
      ],
      "execution_count": null,
      "outputs": []
    },
    {
      "cell_type": "code",
      "metadata": {
        "id": "nWPiK-zpomsI"
      },
      "source": [
        "#show the last X rows in the dataframe, no value defaults to 5\n",
        "df.tail(1) "
      ],
      "execution_count": null,
      "outputs": []
    },
    {
      "cell_type": "code",
      "metadata": {
        "id": "DbvD42VeBDCQ"
      },
      "source": [
        "#summary of the dataframe\n",
        "df.info()"
      ],
      "execution_count": null,
      "outputs": []
    },
    {
      "cell_type": "code",
      "metadata": {
        "id": "t9h8CLlF2GYx"
      },
      "source": [
        "#get basic stats on any numeric features\n",
        "df.describe()"
      ],
      "execution_count": null,
      "outputs": []
    },
    {
      "cell_type": "code",
      "metadata": {
        "id": "pzgeOuQY2V3b"
      },
      "source": [
        "#dimensions of the dataframe\n",
        "df.shape"
      ],
      "execution_count": null,
      "outputs": []
    },
    {
      "cell_type": "code",
      "metadata": {
        "id": "5rSJ-XqL31wF"
      },
      "source": [
        "#what are the data types of the different features\n",
        "df.dtypes"
      ],
      "execution_count": null,
      "outputs": []
    },
    {
      "cell_type": "code",
      "metadata": {
        "id": "P_aXwQSCuj-j"
      },
      "source": [
        "#return a list of the index values\n",
        "df.index"
      ],
      "execution_count": null,
      "outputs": []
    },
    {
      "cell_type": "code",
      "metadata": {
        "id": "W-pmhMim3boA"
      },
      "source": [
        "#how many items in each feature of a dataframe\n",
        "df.count()"
      ],
      "execution_count": null,
      "outputs": []
    },
    {
      "cell_type": "code",
      "metadata": {
        "id": "hhAaT4rJ2aay"
      },
      "source": [
        "#count how many of each item in a feature\n",
        "df['column1'].value_counts()"
      ],
      "execution_count": null,
      "outputs": []
    },
    {
      "cell_type": "code",
      "metadata": {
        "id": "gqrO-IvtCHg9"
      },
      "source": [
        "#count how many unique values in a category\n",
        "df['column1'].value_counts().count()\n",
        "df['column1'].nunique()"
      ],
      "execution_count": null,
      "outputs": []
    },
    {
      "cell_type": "code",
      "metadata": {
        "id": "wXe9Rlf8q_Yp"
      },
      "source": [
        "#Return a list of all unique values in the series\n",
        "df['column1'].unique()"
      ],
      "execution_count": null,
      "outputs": []
    },
    {
      "cell_type": "code",
      "metadata": {
        "id": "qjac1VGE3Rru"
      },
      "source": [
        "#how many null or non-null values are there and what features are they in\n",
        "df.isnull().sum()\n",
        "df.notnull().sum()"
      ],
      "execution_count": null,
      "outputs": []
    },
    {
      "cell_type": "code",
      "metadata": {
        "id": "GpFhlqRYp7Lm"
      },
      "source": [
        "#Access columns or rows by their label\n",
        "df.loc['column_or_index_name']"
      ],
      "execution_count": null,
      "outputs": []
    },
    {
      "cell_type": "code",
      "metadata": {
        "id": "NveOO5s8qRLe"
      },
      "source": [
        "#Access columns or rows by their integer position\n",
        "df.iloc[5]"
      ],
      "execution_count": null,
      "outputs": []
    },
    {
      "cell_type": "code",
      "metadata": {
        "id": "xqljH5fjqhmC"
      },
      "source": [
        "#Access a single value from a row/column pair\n",
        "df.at[2, 'column3']"
      ],
      "execution_count": null,
      "outputs": []
    },
    {
      "cell_type": "code",
      "metadata": {
        "id": "YvAHv8efrt1S"
      },
      "source": [
        "#map values in a series according to a dictionary\n",
        "df['column1'].map({'value1':'value11','value2':'value22'})"
      ],
      "execution_count": null,
      "outputs": []
    },
    {
      "cell_type": "code",
      "metadata": {
        "id": "h6w_FwOkso_T"
      },
      "source": [
        "#Return boolean vector of rows that are between the 2 values\n",
        "df['column1'].between(1, 5, inclusive=True)"
      ],
      "execution_count": null,
      "outputs": []
    },
    {
      "cell_type": "code",
      "metadata": {
        "id": "D0fojsaZs5II"
      },
      "source": [
        "#Return boolean vector of rows that are greater than series or scalar\n",
        "df['column1'].gt(5)\n",
        "df['column1'].gt(df['column2'])"
      ],
      "execution_count": null,
      "outputs": []
    },
    {
      "cell_type": "code",
      "metadata": {
        "id": "DlfnTo8LucMb"
      },
      "source": [
        "#Return boolean vector of rows that are less than series or scalar\n",
        "df['column1'].lt(5)\n",
        "df['column1'].lt(df['column2'])"
      ],
      "execution_count": null,
      "outputs": []
    },
    {
      "cell_type": "code",
      "metadata": {
        "id": "xDrPeSfJu4os"
      },
      "source": [
        "#return only the values, index and column labels are dropped\n",
        "df.to_numpy()"
      ],
      "execution_count": null,
      "outputs": []
    },
    {
      "cell_type": "code",
      "metadata": {
        "id": "DWUeWgmvv3tx"
      },
      "source": [
        "#Apply a function to an axis of the data frame\n",
        "df.apply(np.sum, axis='index')"
      ],
      "execution_count": null,
      "outputs": []
    },
    {
      "cell_type": "code",
      "metadata": {
        "id": "IhVTPeOiwMrW"
      },
      "source": [
        "#Transpose the dataframe (columns become index, index becomes columns)\n",
        "df.T"
      ],
      "execution_count": null,
      "outputs": []
    },
    {
      "cell_type": "code",
      "metadata": {
        "id": "gOST-awV6ia3"
      },
      "source": [
        "#addittional useful pandas calls\n",
        "df.groupby() #https://pandas.pydata.org/pandas-docs/stable/reference/api/pandas.DataFrame.groupby.html\n",
        "df.interpolate() #https://pandas.pydata.org/pandas-docs/stable/reference/api/pandas.DataFrame.interpolate.html"
      ],
      "execution_count": null,
      "outputs": []
    },
    {
      "cell_type": "code",
      "metadata": {
        "id": "hJLy9xSvLPVF"
      },
      "source": [
        "#binning with pd.cut\n",
        "bins = pd.cut(df['column1'], 5) #create 5 bins"
      ],
      "execution_count": null,
      "outputs": []
    },
    {
      "cell_type": "code",
      "metadata": {
        "id": "3JR4f5pFLHZ3"
      },
      "source": [
        "#crosstab for quick small tables (will not run, just example)\n",
        "pd.crosstab(bin_or_feature, bin_or_feature, normalize='columns')"
      ],
      "execution_count": null,
      "outputs": []
    },
    {
      "cell_type": "code",
      "metadata": {
        "id": "Ck1N0Bx8Mn4i"
      },
      "source": [
        "#pivot table\n",
        "#https://pandas.pydata.org/pandas-docs/stable/reference/api/pandas.pivot_table.html\n",
        "table = pd.pivot_table(df, values=['column1'],\n",
        "                       index=['column2'],columns=['column3']) \n",
        "\n",
        "table = pd.pivot_table(df, values=['column1'],\n",
        "                       index=['column2'],columns=['column3'], aggfunc=np.sum)"
      ],
      "execution_count": null,
      "outputs": []
    }
  ]
}