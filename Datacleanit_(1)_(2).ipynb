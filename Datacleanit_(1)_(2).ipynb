{
  "nbformat": 4,
  "nbformat_minor": 0,
  "metadata": {
    "colab": {
      "name": "Datacleanit (1) (2).ipynb",
      "provenance": [],
      "collapsed_sections": [],
      "include_colab_link": true
    },
    "kernelspec": {
      "name": "python3",
      "display_name": "Python 3"
    },
    "language_info": {
      "name": "python"
    }
  },
  "cells": [
    {
      "cell_type": "markdown",
      "metadata": {
        "id": "view-in-github",
        "colab_type": "text"
      },
      "source": [
        "<a href=\"https://colab.research.google.com/github/qkasten/TF-clan/blob/main/Datacleanit_(1)_(2).ipynb\" target=\"_parent\"><img src=\"https://colab.research.google.com/assets/colab-badge.svg\" alt=\"Open In Colab\"/></a>"
      ]
    },
    {
      "cell_type": "code",
      "execution_count": null,
      "metadata": {
        "id": "ULYu3NrFq_8X"
      },
      "outputs": [],
      "source": [
        "#imports\n",
        "import pandas as pd\n",
        "import numpy as np\n",
        "import math as mat\n",
        "from google.colab import drive\n",
        "import matplotlib.pyplot as plt\n",
        "import seaborn as sns\n",
        "import missingno as msno\n",
        "import tensorflow as tf\n",
        "\n",
        "from tensorflow import keras"
      ]
    },
    {
      "cell_type": "markdown",
      "source": [
        "# Data Exploration\n"
      ],
      "metadata": {
        "id": "moCVLM3znrlS"
      }
    },
    {
      "cell_type": "code",
      "source": [
        "df = pd.read_csv('/content/raw_house_data.csv')\n",
        "df.head(10)"
      ],
      "metadata": {
        "colab": {
          "base_uri": "https://localhost:8080/",
          "height": 826
        },
        "id": "3P2SRt3VrG7R",
        "outputId": "1e6f761e-7582-4b8f-ee31-4a46e0640ef5"
      },
      "execution_count": null,
      "outputs": [
        {
          "output_type": "execute_result",
          "data": {
            "text/plain": [
              "        MLS  sold_price  zipcode   longitude   latitude  lot_acres     taxes  \\\n",
              "0  21530491   5300000.0    85637 -110.378200  31.356362    2154.00   5272.00   \n",
              "1  21529082   4200000.0    85646 -111.045371  31.594213    1707.00  10422.36   \n",
              "2   3054672   4200000.0    85646 -111.040707  31.594844    1707.00  10482.00   \n",
              "3  21919321   4500000.0    85646 -111.035925  31.645878     636.67   8418.58   \n",
              "4  21306357   3411450.0    85750 -110.813768  32.285162       3.21  15393.00   \n",
              "5  21528016   3250000.0    85718 -110.910593  32.339090       1.67  27802.84   \n",
              "6  21610478   2400000.0    85712 -110.883315  32.261069       2.10  19038.42   \n",
              "7  21211741   2500000.0    85750 -110.861002  32.331603       1.07  21646.00   \n",
              "8  21324646   3700000.0    85718 -110.912156  32.343601       6.73  25094.39   \n",
              "9  21812010   3250000.0    85750 -110.837950  32.327575       3.53  18936.11   \n",
              "\n",
              "   year_built  bedrooms bathrooms sqrt_ft garage  \\\n",
              "0        1941        13        10   10500      0   \n",
              "1        1997         2         2    7300      0   \n",
              "2        1997         2         3    None   None   \n",
              "3        1930         7         5    9019      4   \n",
              "4        1995         4         6    6396      3   \n",
              "5        1999         3         4    6842      3   \n",
              "6        2001         9         8   12025      4   \n",
              "7        2011         6         8    8921      4   \n",
              "8        2002         5         7    5238      3   \n",
              "9        2007         5         6    6480      3   \n",
              "\n",
              "                                    kitchen_features  fireplaces  \\\n",
              "0            Dishwasher, Freezer, Refrigerator, Oven         6.0   \n",
              "1                       Dishwasher, Garbage Disposal         5.0   \n",
              "2         Dishwasher, Garbage Disposal, Refrigerator         5.0   \n",
              "3  Dishwasher, Double Sink, Pantry: Butler, Refri...         4.0   \n",
              "4  Dishwasher, Garbage Disposal, Refrigerator, Mi...         5.0   \n",
              "5  Dishwasher, Garbage Disposal, Refrigerator, Mi...         5.0   \n",
              "6                 Dishwasher, Garbage Disposal, Oven         6.0   \n",
              "7  Compactor, Dishwasher, Freezer, Garbage Dispos...         5.0   \n",
              "8  Compactor, Dishwasher, Freezer, Garbage Dispos...         1.0   \n",
              "9  Dishwasher, Double Sink, Electric Range, Freez...         2.0   \n",
              "\n",
              "                       floor_covering     HOA  \n",
              "0                  Mexican Tile, Wood       0  \n",
              "1                Natural Stone, Other       0  \n",
              "2          Natural Stone, Other: Rock    None  \n",
              "3        Ceramic Tile, Laminate, Wood    None  \n",
              "4                    Carpet, Concrete      55  \n",
              "5          Natural Stone, Wood, Other     422  \n",
              "6  Carpet, Natural Stone, Wood, Other       0  \n",
              "7         Carpet, Natural Stone, Wood     220  \n",
              "8  Carpet, Natural Stone, Wood, Other     421  \n",
              "9                    Carpet, Concrete  141.67  "
            ],
            "text/html": [
              "\n",
              "  <div id=\"df-c892457a-a513-401c-a6c9-bee60ffe0e91\">\n",
              "    <div class=\"colab-df-container\">\n",
              "      <div>\n",
              "<style scoped>\n",
              "    .dataframe tbody tr th:only-of-type {\n",
              "        vertical-align: middle;\n",
              "    }\n",
              "\n",
              "    .dataframe tbody tr th {\n",
              "        vertical-align: top;\n",
              "    }\n",
              "\n",
              "    .dataframe thead th {\n",
              "        text-align: right;\n",
              "    }\n",
              "</style>\n",
              "<table border=\"1\" class=\"dataframe\">\n",
              "  <thead>\n",
              "    <tr style=\"text-align: right;\">\n",
              "      <th></th>\n",
              "      <th>MLS</th>\n",
              "      <th>sold_price</th>\n",
              "      <th>zipcode</th>\n",
              "      <th>longitude</th>\n",
              "      <th>latitude</th>\n",
              "      <th>lot_acres</th>\n",
              "      <th>taxes</th>\n",
              "      <th>year_built</th>\n",
              "      <th>bedrooms</th>\n",
              "      <th>bathrooms</th>\n",
              "      <th>sqrt_ft</th>\n",
              "      <th>garage</th>\n",
              "      <th>kitchen_features</th>\n",
              "      <th>fireplaces</th>\n",
              "      <th>floor_covering</th>\n",
              "      <th>HOA</th>\n",
              "    </tr>\n",
              "  </thead>\n",
              "  <tbody>\n",
              "    <tr>\n",
              "      <th>0</th>\n",
              "      <td>21530491</td>\n",
              "      <td>5300000.0</td>\n",
              "      <td>85637</td>\n",
              "      <td>-110.378200</td>\n",
              "      <td>31.356362</td>\n",
              "      <td>2154.00</td>\n",
              "      <td>5272.00</td>\n",
              "      <td>1941</td>\n",
              "      <td>13</td>\n",
              "      <td>10</td>\n",
              "      <td>10500</td>\n",
              "      <td>0</td>\n",
              "      <td>Dishwasher, Freezer, Refrigerator, Oven</td>\n",
              "      <td>6.0</td>\n",
              "      <td>Mexican Tile, Wood</td>\n",
              "      <td>0</td>\n",
              "    </tr>\n",
              "    <tr>\n",
              "      <th>1</th>\n",
              "      <td>21529082</td>\n",
              "      <td>4200000.0</td>\n",
              "      <td>85646</td>\n",
              "      <td>-111.045371</td>\n",
              "      <td>31.594213</td>\n",
              "      <td>1707.00</td>\n",
              "      <td>10422.36</td>\n",
              "      <td>1997</td>\n",
              "      <td>2</td>\n",
              "      <td>2</td>\n",
              "      <td>7300</td>\n",
              "      <td>0</td>\n",
              "      <td>Dishwasher, Garbage Disposal</td>\n",
              "      <td>5.0</td>\n",
              "      <td>Natural Stone, Other</td>\n",
              "      <td>0</td>\n",
              "    </tr>\n",
              "    <tr>\n",
              "      <th>2</th>\n",
              "      <td>3054672</td>\n",
              "      <td>4200000.0</td>\n",
              "      <td>85646</td>\n",
              "      <td>-111.040707</td>\n",
              "      <td>31.594844</td>\n",
              "      <td>1707.00</td>\n",
              "      <td>10482.00</td>\n",
              "      <td>1997</td>\n",
              "      <td>2</td>\n",
              "      <td>3</td>\n",
              "      <td>None</td>\n",
              "      <td>None</td>\n",
              "      <td>Dishwasher, Garbage Disposal, Refrigerator</td>\n",
              "      <td>5.0</td>\n",
              "      <td>Natural Stone, Other: Rock</td>\n",
              "      <td>None</td>\n",
              "    </tr>\n",
              "    <tr>\n",
              "      <th>3</th>\n",
              "      <td>21919321</td>\n",
              "      <td>4500000.0</td>\n",
              "      <td>85646</td>\n",
              "      <td>-111.035925</td>\n",
              "      <td>31.645878</td>\n",
              "      <td>636.67</td>\n",
              "      <td>8418.58</td>\n",
              "      <td>1930</td>\n",
              "      <td>7</td>\n",
              "      <td>5</td>\n",
              "      <td>9019</td>\n",
              "      <td>4</td>\n",
              "      <td>Dishwasher, Double Sink, Pantry: Butler, Refri...</td>\n",
              "      <td>4.0</td>\n",
              "      <td>Ceramic Tile, Laminate, Wood</td>\n",
              "      <td>None</td>\n",
              "    </tr>\n",
              "    <tr>\n",
              "      <th>4</th>\n",
              "      <td>21306357</td>\n",
              "      <td>3411450.0</td>\n",
              "      <td>85750</td>\n",
              "      <td>-110.813768</td>\n",
              "      <td>32.285162</td>\n",
              "      <td>3.21</td>\n",
              "      <td>15393.00</td>\n",
              "      <td>1995</td>\n",
              "      <td>4</td>\n",
              "      <td>6</td>\n",
              "      <td>6396</td>\n",
              "      <td>3</td>\n",
              "      <td>Dishwasher, Garbage Disposal, Refrigerator, Mi...</td>\n",
              "      <td>5.0</td>\n",
              "      <td>Carpet, Concrete</td>\n",
              "      <td>55</td>\n",
              "    </tr>\n",
              "    <tr>\n",
              "      <th>5</th>\n",
              "      <td>21528016</td>\n",
              "      <td>3250000.0</td>\n",
              "      <td>85718</td>\n",
              "      <td>-110.910593</td>\n",
              "      <td>32.339090</td>\n",
              "      <td>1.67</td>\n",
              "      <td>27802.84</td>\n",
              "      <td>1999</td>\n",
              "      <td>3</td>\n",
              "      <td>4</td>\n",
              "      <td>6842</td>\n",
              "      <td>3</td>\n",
              "      <td>Dishwasher, Garbage Disposal, Refrigerator, Mi...</td>\n",
              "      <td>5.0</td>\n",
              "      <td>Natural Stone, Wood, Other</td>\n",
              "      <td>422</td>\n",
              "    </tr>\n",
              "    <tr>\n",
              "      <th>6</th>\n",
              "      <td>21610478</td>\n",
              "      <td>2400000.0</td>\n",
              "      <td>85712</td>\n",
              "      <td>-110.883315</td>\n",
              "      <td>32.261069</td>\n",
              "      <td>2.10</td>\n",
              "      <td>19038.42</td>\n",
              "      <td>2001</td>\n",
              "      <td>9</td>\n",
              "      <td>8</td>\n",
              "      <td>12025</td>\n",
              "      <td>4</td>\n",
              "      <td>Dishwasher, Garbage Disposal, Oven</td>\n",
              "      <td>6.0</td>\n",
              "      <td>Carpet, Natural Stone, Wood, Other</td>\n",
              "      <td>0</td>\n",
              "    </tr>\n",
              "    <tr>\n",
              "      <th>7</th>\n",
              "      <td>21211741</td>\n",
              "      <td>2500000.0</td>\n",
              "      <td>85750</td>\n",
              "      <td>-110.861002</td>\n",
              "      <td>32.331603</td>\n",
              "      <td>1.07</td>\n",
              "      <td>21646.00</td>\n",
              "      <td>2011</td>\n",
              "      <td>6</td>\n",
              "      <td>8</td>\n",
              "      <td>8921</td>\n",
              "      <td>4</td>\n",
              "      <td>Compactor, Dishwasher, Freezer, Garbage Dispos...</td>\n",
              "      <td>5.0</td>\n",
              "      <td>Carpet, Natural Stone, Wood</td>\n",
              "      <td>220</td>\n",
              "    </tr>\n",
              "    <tr>\n",
              "      <th>8</th>\n",
              "      <td>21324646</td>\n",
              "      <td>3700000.0</td>\n",
              "      <td>85718</td>\n",
              "      <td>-110.912156</td>\n",
              "      <td>32.343601</td>\n",
              "      <td>6.73</td>\n",
              "      <td>25094.39</td>\n",
              "      <td>2002</td>\n",
              "      <td>5</td>\n",
              "      <td>7</td>\n",
              "      <td>5238</td>\n",
              "      <td>3</td>\n",
              "      <td>Compactor, Dishwasher, Freezer, Garbage Dispos...</td>\n",
              "      <td>1.0</td>\n",
              "      <td>Carpet, Natural Stone, Wood, Other</td>\n",
              "      <td>421</td>\n",
              "    </tr>\n",
              "    <tr>\n",
              "      <th>9</th>\n",
              "      <td>21812010</td>\n",
              "      <td>3250000.0</td>\n",
              "      <td>85750</td>\n",
              "      <td>-110.837950</td>\n",
              "      <td>32.327575</td>\n",
              "      <td>3.53</td>\n",
              "      <td>18936.11</td>\n",
              "      <td>2007</td>\n",
              "      <td>5</td>\n",
              "      <td>6</td>\n",
              "      <td>6480</td>\n",
              "      <td>3</td>\n",
              "      <td>Dishwasher, Double Sink, Electric Range, Freez...</td>\n",
              "      <td>2.0</td>\n",
              "      <td>Carpet, Concrete</td>\n",
              "      <td>141.67</td>\n",
              "    </tr>\n",
              "  </tbody>\n",
              "</table>\n",
              "</div>\n",
              "      <button class=\"colab-df-convert\" onclick=\"convertToInteractive('df-c892457a-a513-401c-a6c9-bee60ffe0e91')\"\n",
              "              title=\"Convert this dataframe to an interactive table.\"\n",
              "              style=\"display:none;\">\n",
              "        \n",
              "  <svg xmlns=\"http://www.w3.org/2000/svg\" height=\"24px\"viewBox=\"0 0 24 24\"\n",
              "       width=\"24px\">\n",
              "    <path d=\"M0 0h24v24H0V0z\" fill=\"none\"/>\n",
              "    <path d=\"M18.56 5.44l.94 2.06.94-2.06 2.06-.94-2.06-.94-.94-2.06-.94 2.06-2.06.94zm-11 1L8.5 8.5l.94-2.06 2.06-.94-2.06-.94L8.5 2.5l-.94 2.06-2.06.94zm10 10l.94 2.06.94-2.06 2.06-.94-2.06-.94-.94-2.06-.94 2.06-2.06.94z\"/><path d=\"M17.41 7.96l-1.37-1.37c-.4-.4-.92-.59-1.43-.59-.52 0-1.04.2-1.43.59L10.3 9.45l-7.72 7.72c-.78.78-.78 2.05 0 2.83L4 21.41c.39.39.9.59 1.41.59.51 0 1.02-.2 1.41-.59l7.78-7.78 2.81-2.81c.8-.78.8-2.07 0-2.86zM5.41 20L4 18.59l7.72-7.72 1.47 1.35L5.41 20z\"/>\n",
              "  </svg>\n",
              "      </button>\n",
              "      \n",
              "  <style>\n",
              "    .colab-df-container {\n",
              "      display:flex;\n",
              "      flex-wrap:wrap;\n",
              "      gap: 12px;\n",
              "    }\n",
              "\n",
              "    .colab-df-convert {\n",
              "      background-color: #E8F0FE;\n",
              "      border: none;\n",
              "      border-radius: 50%;\n",
              "      cursor: pointer;\n",
              "      display: none;\n",
              "      fill: #1967D2;\n",
              "      height: 32px;\n",
              "      padding: 0 0 0 0;\n",
              "      width: 32px;\n",
              "    }\n",
              "\n",
              "    .colab-df-convert:hover {\n",
              "      background-color: #E2EBFA;\n",
              "      box-shadow: 0px 1px 2px rgba(60, 64, 67, 0.3), 0px 1px 3px 1px rgba(60, 64, 67, 0.15);\n",
              "      fill: #174EA6;\n",
              "    }\n",
              "\n",
              "    [theme=dark] .colab-df-convert {\n",
              "      background-color: #3B4455;\n",
              "      fill: #D2E3FC;\n",
              "    }\n",
              "\n",
              "    [theme=dark] .colab-df-convert:hover {\n",
              "      background-color: #434B5C;\n",
              "      box-shadow: 0px 1px 3px 1px rgba(0, 0, 0, 0.15);\n",
              "      filter: drop-shadow(0px 1px 2px rgba(0, 0, 0, 0.3));\n",
              "      fill: #FFFFFF;\n",
              "    }\n",
              "  </style>\n",
              "\n",
              "      <script>\n",
              "        const buttonEl =\n",
              "          document.querySelector('#df-c892457a-a513-401c-a6c9-bee60ffe0e91 button.colab-df-convert');\n",
              "        buttonEl.style.display =\n",
              "          google.colab.kernel.accessAllowed ? 'block' : 'none';\n",
              "\n",
              "        async function convertToInteractive(key) {\n",
              "          const element = document.querySelector('#df-c892457a-a513-401c-a6c9-bee60ffe0e91');\n",
              "          const dataTable =\n",
              "            await google.colab.kernel.invokeFunction('convertToInteractive',\n",
              "                                                     [key], {});\n",
              "          if (!dataTable) return;\n",
              "\n",
              "          const docLinkHtml = 'Like what you see? Visit the ' +\n",
              "            '<a target=\"_blank\" href=https://colab.research.google.com/notebooks/data_table.ipynb>data table notebook</a>'\n",
              "            + ' to learn more about interactive tables.';\n",
              "          element.innerHTML = '';\n",
              "          dataTable['output_type'] = 'display_data';\n",
              "          await google.colab.output.renderOutput(dataTable, element);\n",
              "          const docLink = document.createElement('div');\n",
              "          docLink.innerHTML = docLinkHtml;\n",
              "          element.appendChild(docLink);\n",
              "        }\n",
              "      </script>\n",
              "    </div>\n",
              "  </div>\n",
              "  "
            ]
          },
          "metadata": {},
          "execution_count": 2
        }
      ]
    },
    {
      "cell_type": "code",
      "source": [
        ""
      ],
      "metadata": {
        "id": "Z9pVXbzbDFgd"
      },
      "execution_count": null,
      "outputs": []
    },
    {
      "cell_type": "markdown",
      "source": [
        "MLS: code of the house\n",
        "HOA: homeowners association\n",
        "kitchen variable describes the contain of the products could be find"
      ],
      "metadata": {
        "id": "_mK3FgZcDGZf"
      }
    },
    {
      "cell_type": "code",
      "source": [
        "df.isnull().sum()"
      ],
      "metadata": {
        "colab": {
          "base_uri": "https://localhost:8080/"
        },
        "id": "0wJcqGAzrG-a",
        "outputId": "0f799ddc-7e60-493f-ce10-9778bb84bdb2"
      },
      "execution_count": null,
      "outputs": [
        {
          "output_type": "execute_result",
          "data": {
            "text/plain": [
              "MLS                  0\n",
              "sold_price           0\n",
              "zipcode              0\n",
              "longitude            0\n",
              "latitude             0\n",
              "lot_acres           10\n",
              "taxes                0\n",
              "year_built           0\n",
              "bedrooms             0\n",
              "bathrooms            0\n",
              "sqrt_ft              0\n",
              "garage               0\n",
              "kitchen_features     0\n",
              "fireplaces          25\n",
              "floor_covering       0\n",
              "HOA                  0\n",
              "dtype: int64"
            ]
          },
          "metadata": {},
          "execution_count": 54
        }
      ]
    },
    {
      "cell_type": "markdown",
      "source": [
        "So, for this case we have 35 nan, where the 0 has a meaning and there still None that weren't count in other column."
      ],
      "metadata": {
        "id": "OXDvyOf3rxG6"
      }
    },
    {
      "cell_type": "code",
      "source": [
        "df.size"
      ],
      "metadata": {
        "colab": {
          "base_uri": "https://localhost:8080/"
        },
        "id": "euIJLX9PrHBT",
        "outputId": "eee427ca-2048-4eea-c1b0-936b6e791e60"
      },
      "execution_count": null,
      "outputs": [
        {
          "output_type": "execute_result",
          "data": {
            "text/plain": [
              "80000"
            ]
          },
          "metadata": {},
          "execution_count": 55
        }
      ]
    },
    {
      "cell_type": "code",
      "source": [
        "fig = plt.figure(figsize = (15,20))\n",
        "ax = fig.gca()\n",
        "df.hist(ax = ax)"
      ],
      "metadata": {
        "colab": {
          "base_uri": "https://localhost:8080/",
          "height": 1000
        },
        "id": "wJ9iI60ksEpU",
        "outputId": "5691cc8b-cc86-4faf-f687-4947842005d0"
      },
      "execution_count": null,
      "outputs": [
        {
          "output_type": "stream",
          "name": "stderr",
          "text": [
            "/usr/local/lib/python3.7/dist-packages/ipykernel_launcher.py:3: UserWarning: To output multiple subplots, the figure containing the passed axes is being cleared\n",
            "  This is separate from the ipykernel package so we can avoid doing imports until\n"
          ]
        },
        {
          "output_type": "execute_result",
          "data": {
            "text/plain": [
              "array([[<matplotlib.axes._subplots.AxesSubplot object at 0x7f2666302110>,\n",
              "        <matplotlib.axes._subplots.AxesSubplot object at 0x7f26662016d0>,\n",
              "        <matplotlib.axes._subplots.AxesSubplot object at 0x7f26661b5d10>],\n",
              "       [<matplotlib.axes._subplots.AxesSubplot object at 0x7f2666170590>,\n",
              "        <matplotlib.axes._subplots.AxesSubplot object at 0x7f2666125b90>,\n",
              "        <matplotlib.axes._subplots.AxesSubplot object at 0x7f26660ea190>],\n",
              "       [<matplotlib.axes._subplots.AxesSubplot object at 0x7f266611f850>,\n",
              "        <matplotlib.axes._subplots.AxesSubplot object at 0x7f26660d5d90>,\n",
              "        <matplotlib.axes._subplots.AxesSubplot object at 0x7f26660d5dd0>],\n",
              "       [<matplotlib.axes._subplots.AxesSubplot object at 0x7f266609a690>,\n",
              "        <matplotlib.axes._subplots.AxesSubplot object at 0x7f2666014210>,\n",
              "        <matplotlib.axes._subplots.AxesSubplot object at 0x7f2665fc8810>]],\n",
              "      dtype=object)"
            ]
          },
          "metadata": {},
          "execution_count": 3
        },
        {
          "output_type": "display_data",
          "data": {
            "text/plain": [
              "<Figure size 1080x1440 with 12 Axes>"
            ],
            "image/png": "[encoded data removed]"
          },
          "metadata": {
            "needs_background": "light"
          }
        }
      ]
    },
    {
      "cell_type": "markdown",
      "source": [
        "We look for any kind of data distribution"
      ],
      "metadata": {
        "id": "lkfMCEBrohox"
      }
    },
    {
      "cell_type": "code",
      "source": [
        "df.dtypes"
      ],
      "metadata": {
        "colab": {
          "base_uri": "https://localhost:8080/"
        },
        "id": "4Pk-3-GRsS9i",
        "outputId": "2f01ab61-f720-47c4-9053-108bc4633ae1"
      },
      "execution_count": null,
      "outputs": [
        {
          "output_type": "execute_result",
          "data": {
            "text/plain": [
              "MLS                   int64\n",
              "sold_price          float64\n",
              "zipcode               int64\n",
              "longitude           float64\n",
              "latitude            float64\n",
              "lot_acres           float64\n",
              "taxes               float64\n",
              "year_built            int64\n",
              "bedrooms              int64\n",
              "bathrooms            object\n",
              "sqrt_ft              object\n",
              "garage               object\n",
              "kitchen_features     object\n",
              "fireplaces          float64\n",
              "floor_covering       object\n",
              "HOA                  object\n",
              "dtype: object"
            ]
          },
          "metadata": {},
          "execution_count": 6
        }
      ]
    },
    {
      "cell_type": "markdown",
      "source": [
        "It is proceed to change the type of the columns to int or float in order to work with them\n"
      ],
      "metadata": {
        "id": "H-HND3R21Oa-"
      }
    },
    {
      "cell_type": "code",
      "source": [
        "data = df"
      ],
      "metadata": {
        "id": "XHmdFfITu4ji"
      },
      "execution_count": null,
      "outputs": []
    },
    {
      "cell_type": "code",
      "source": [
        "\n",
        "data['garage'].replace('None', np.nan, inplace=True)\n",
        "data['bathrooms'].replace('None', np.nan, inplace=True)\n",
        "data['sqrt_ft'].replace('None', np.nan, inplace=True)\n",
        "data['HOA'].replace('None', np.nan, inplace=True)\n",
        "data['floor_covering'].replace('None', np.nan, inplace=True)\n",
        "data['sold_price'].replace('None', np.nan, inplace=True)\n",
        "data.head(10)"
      ],
      "metadata": {
        "colab": {
          "base_uri": "https://localhost:8080/",
          "height": 826
        },
        "id": "BWgbL70234W3",
        "outputId": "679ad08d-066c-402b-b7fa-a00ce11082eb"
      },
      "execution_count": null,
      "outputs": [
        {
          "output_type": "execute_result",
          "data": {
            "text/plain": [
              "        MLS  sold_price  zipcode   longitude   latitude  lot_acres     taxes  \\\n",
              "0  21530491   5300000.0    85637 -110.378200  31.356362    2154.00   5272.00   \n",
              "1  21529082   4200000.0    85646 -111.045371  31.594213    1707.00  10422.36   \n",
              "2   3054672   4200000.0    85646 -111.040707  31.594844    1707.00  10482.00   \n",
              "3  21919321   4500000.0    85646 -111.035925  31.645878     636.67   8418.58   \n",
              "4  21306357   3411450.0    85750 -110.813768  32.285162       3.21  15393.00   \n",
              "5  21528016   3250000.0    85718 -110.910593  32.339090       1.67  27802.84   \n",
              "6  21610478   2400000.0    85712 -110.883315  32.261069       2.10  19038.42   \n",
              "7  21211741   2500000.0    85750 -110.861002  32.331603       1.07  21646.00   \n",
              "8  21324646   3700000.0    85718 -110.912156  32.343601       6.73  25094.39   \n",
              "9  21812010   3250000.0    85750 -110.837950  32.327575       3.53  18936.11   \n",
              "\n",
              "   year_built  bedrooms bathrooms sqrt_ft garage  \\\n",
              "0        1941        13        10   10500      0   \n",
              "1        1997         2         2    7300      0   \n",
              "2        1997         2         3     NaN    NaN   \n",
              "3        1930         7         5    9019      4   \n",
              "4        1995         4         6    6396      3   \n",
              "5        1999         3         4    6842      3   \n",
              "6        2001         9         8   12025      4   \n",
              "7        2011         6         8    8921      4   \n",
              "8        2002         5         7    5238      3   \n",
              "9        2007         5         6    6480      3   \n",
              "\n",
              "                                    kitchen_features  fireplaces  \\\n",
              "0            Dishwasher, Freezer, Refrigerator, Oven         6.0   \n",
              "1                       Dishwasher, Garbage Disposal         5.0   \n",
              "2         Dishwasher, Garbage Disposal, Refrigerator         5.0   \n",
              "3  Dishwasher, Double Sink, Pantry: Butler, Refri...         4.0   \n",
              "4  Dishwasher, Garbage Disposal, Refrigerator, Mi...         5.0   \n",
              "5  Dishwasher, Garbage Disposal, Refrigerator, Mi...         5.0   \n",
              "6                 Dishwasher, Garbage Disposal, Oven         6.0   \n",
              "7  Compactor, Dishwasher, Freezer, Garbage Dispos...         5.0   \n",
              "8  Compactor, Dishwasher, Freezer, Garbage Dispos...         1.0   \n",
              "9  Dishwasher, Double Sink, Electric Range, Freez...         2.0   \n",
              "\n",
              "                       floor_covering     HOA  \n",
              "0                  Mexican Tile, Wood       0  \n",
              "1                Natural Stone, Other       0  \n",
              "2          Natural Stone, Other: Rock     NaN  \n",
              "3        Ceramic Tile, Laminate, Wood     NaN  \n",
              "4                    Carpet, Concrete      55  \n",
              "5          Natural Stone, Wood, Other     422  \n",
              "6  Carpet, Natural Stone, Wood, Other       0  \n",
              "7         Carpet, Natural Stone, Wood     220  \n",
              "8  Carpet, Natural Stone, Wood, Other     421  \n",
              "9                    Carpet, Concrete  141.67  "
            ],
            "text/html": [
              "\n",
              "  <div id=\"df-b91d926d-1585-49db-9d75-32fdd6ce5e77\">\n",
              "    <div class=\"colab-df-container\">\n",
              "      <div>\n",
              "<style scoped>\n",
              "    .dataframe tbody tr th:only-of-type {\n",
              "        vertical-align: middle;\n",
              "    }\n",
              "\n",
              "    .dataframe tbody tr th {\n",
              "        vertical-align: top;\n",
              "    }\n",
              "\n",
              "    .dataframe thead th {\n",
              "        text-align: right;\n",
              "    }\n",
              "</style>\n",
              "<table border=\"1\" class=\"dataframe\">\n",
              "  <thead>\n",
              "    <tr style=\"text-align: right;\">\n",
              "      <th></th>\n",
              "      <th>MLS</th>\n",
              "      <th>sold_price</th>\n",
              "      <th>zipcode</th>\n",
              "      <th>longitude</th>\n",
              "      <th>latitude</th>\n",
              "      <th>lot_acres</th>\n",
              "      <th>taxes</th>\n",
              "      <th>year_built</th>\n",
              "      <th>bedrooms</th>\n",
              "      <th>bathrooms</th>\n",
              "      <th>sqrt_ft</th>\n",
              "      <th>garage</th>\n",
              "      <th>kitchen_features</th>\n",
              "      <th>fireplaces</th>\n",
              "      <th>floor_covering</th>\n",
              "      <th>HOA</th>\n",
              "    </tr>\n",
              "  </thead>\n",
              "  <tbody>\n",
              "    <tr>\n",
              "      <th>0</th>\n",
              "      <td>21530491</td>\n",
              "      <td>5300000.0</td>\n",
              "      <td>85637</td>\n",
              "      <td>-110.378200</td>\n",
              "      <td>31.356362</td>\n",
              "      <td>2154.00</td>\n",
              "      <td>5272.00</td>\n",
              "      <td>1941</td>\n",
              "      <td>13</td>\n",
              "      <td>10</td>\n",
              "      <td>10500</td>\n",
              "      <td>0</td>\n",
              "      <td>Dishwasher, Freezer, Refrigerator, Oven</td>\n",
              "      <td>6.0</td>\n",
              "      <td>Mexican Tile, Wood</td>\n",
              "      <td>0</td>\n",
              "    </tr>\n",
              "    <tr>\n",
              "      <th>1</th>\n",
              "      <td>21529082</td>\n",
              "      <td>4200000.0</td>\n",
              "      <td>85646</td>\n",
              "      <td>-111.045371</td>\n",
              "      <td>31.594213</td>\n",
              "      <td>1707.00</td>\n",
              "      <td>10422.36</td>\n",
              "      <td>1997</td>\n",
              "      <td>2</td>\n",
              "      <td>2</td>\n",
              "      <td>7300</td>\n",
              "      <td>0</td>\n",
              "      <td>Dishwasher, Garbage Disposal</td>\n",
              "      <td>5.0</td>\n",
              "      <td>Natural Stone, Other</td>\n",
              "      <td>0</td>\n",
              "    </tr>\n",
              "    <tr>\n",
              "      <th>2</th>\n",
              "      <td>3054672</td>\n",
              "      <td>4200000.0</td>\n",
              "      <td>85646</td>\n",
              "      <td>-111.040707</td>\n",
              "      <td>31.594844</td>\n",
              "      <td>1707.00</td>\n",
              "      <td>10482.00</td>\n",
              "      <td>1997</td>\n",
              "      <td>2</td>\n",
              "      <td>3</td>\n",
              "      <td>NaN</td>\n",
              "      <td>NaN</td>\n",
              "      <td>Dishwasher, Garbage Disposal, Refrigerator</td>\n",
              "      <td>5.0</td>\n",
              "      <td>Natural Stone, Other: Rock</td>\n",
              "      <td>NaN</td>\n",
              "    </tr>\n",
              "    <tr>\n",
              "      <th>3</th>\n",
              "      <td>21919321</td>\n",
              "      <td>4500000.0</td>\n",
              "      <td>85646</td>\n",
              "      <td>-111.035925</td>\n",
              "      <td>31.645878</td>\n",
              "      <td>636.67</td>\n",
              "      <td>8418.58</td>\n",
              "      <td>1930</td>\n",
              "      <td>7</td>\n",
              "      <td>5</td>\n",
              "      <td>9019</td>\n",
              "      <td>4</td>\n",
              "      <td>Dishwasher, Double Sink, Pantry: Butler, Refri...</td>\n",
              "      <td>4.0</td>\n",
              "      <td>Ceramic Tile, Laminate, Wood</td>\n",
              "      <td>NaN</td>\n",
              "    </tr>\n",
              "    <tr>\n",
              "      <th>4</th>\n",
              "      <td>21306357</td>\n",
              "      <td>3411450.0</td>\n",
              "      <td>85750</td>\n",
              "      <td>-110.813768</td>\n",
              "      <td>32.285162</td>\n",
              "      <td>3.21</td>\n",
              "      <td>15393.00</td>\n",
              "      <td>1995</td>\n",
              "      <td>4</td>\n",
              "      <td>6</td>\n",
              "      <td>6396</td>\n",
              "      <td>3</td>\n",
              "      <td>Dishwasher, Garbage Disposal, Refrigerator, Mi...</td>\n",
              "      <td>5.0</td>\n",
              "      <td>Carpet, Concrete</td>\n",
              "      <td>55</td>\n",
              "    </tr>\n",
              "    <tr>\n",
              "      <th>5</th>\n",
              "      <td>21528016</td>\n",
              "      <td>3250000.0</td>\n",
              "      <td>85718</td>\n",
              "      <td>-110.910593</td>\n",
              "      <td>32.339090</td>\n",
              "      <td>1.67</td>\n",
              "      <td>27802.84</td>\n",
              "      <td>1999</td>\n",
              "      <td>3</td>\n",
              "      <td>4</td>\n",
              "      <td>6842</td>\n",
              "      <td>3</td>\n",
              "      <td>Dishwasher, Garbage Disposal, Refrigerator, Mi...</td>\n",
              "      <td>5.0</td>\n",
              "      <td>Natural Stone, Wood, Other</td>\n",
              "      <td>422</td>\n",
              "    </tr>\n",
              "    <tr>\n",
              "      <th>6</th>\n",
              "      <td>21610478</td>\n",
              "      <td>2400000.0</td>\n",
              "      <td>85712</td>\n",
              "      <td>-110.883315</td>\n",
              "      <td>32.261069</td>\n",
              "      <td>2.10</td>\n",
              "      <td>19038.42</td>\n",
              "      <td>2001</td>\n",
              "      <td>9</td>\n",
              "      <td>8</td>\n",
              "      <td>12025</td>\n",
              "      <td>4</td>\n",
              "      <td>Dishwasher, Garbage Disposal, Oven</td>\n",
              "      <td>6.0</td>\n",
              "      <td>Carpet, Natural Stone, Wood, Other</td>\n",
              "      <td>0</td>\n",
              "    </tr>\n",
              "    <tr>\n",
              "      <th>7</th>\n",
              "      <td>21211741</td>\n",
              "      <td>2500000.0</td>\n",
              "      <td>85750</td>\n",
              "      <td>-110.861002</td>\n",
              "      <td>32.331603</td>\n",
              "      <td>1.07</td>\n",
              "      <td>21646.00</td>\n",
              "      <td>2011</td>\n",
              "      <td>6</td>\n",
              "      <td>8</td>\n",
              "      <td>8921</td>\n",
              "      <td>4</td>\n",
              "      <td>Compactor, Dishwasher, Freezer, Garbage Dispos...</td>\n",
              "      <td>5.0</td>\n",
              "      <td>Carpet, Natural Stone, Wood</td>\n",
              "      <td>220</td>\n",
              "    </tr>\n",
              "    <tr>\n",
              "      <th>8</th>\n",
              "      <td>21324646</td>\n",
              "      <td>3700000.0</td>\n",
              "      <td>85718</td>\n",
              "      <td>-110.912156</td>\n",
              "      <td>32.343601</td>\n",
              "      <td>6.73</td>\n",
              "      <td>25094.39</td>\n",
              "      <td>2002</td>\n",
              "      <td>5</td>\n",
              "      <td>7</td>\n",
              "      <td>5238</td>\n",
              "      <td>3</td>\n",
              "      <td>Compactor, Dishwasher, Freezer, Garbage Dispos...</td>\n",
              "      <td>1.0</td>\n",
              "      <td>Carpet, Natural Stone, Wood, Other</td>\n",
              "      <td>421</td>\n",
              "    </tr>\n",
              "    <tr>\n",
              "      <th>9</th>\n",
              "      <td>21812010</td>\n",
              "      <td>3250000.0</td>\n",
              "      <td>85750</td>\n",
              "      <td>-110.837950</td>\n",
              "      <td>32.327575</td>\n",
              "      <td>3.53</td>\n",
              "      <td>18936.11</td>\n",
              "      <td>2007</td>\n",
              "      <td>5</td>\n",
              "      <td>6</td>\n",
              "      <td>6480</td>\n",
              "      <td>3</td>\n",
              "      <td>Dishwasher, Double Sink, Electric Range, Freez...</td>\n",
              "      <td>2.0</td>\n",
              "      <td>Carpet, Concrete</td>\n",
              "      <td>141.67</td>\n",
              "    </tr>\n",
              "  </tbody>\n",
              "</table>\n",
              "</div>\n",
              "      <button class=\"colab-df-convert\" onclick=\"convertToInteractive('df-b91d926d-1585-49db-9d75-32fdd6ce5e77')\"\n",
              "              title=\"Convert this dataframe to an interactive table.\"\n",
              "              style=\"display:none;\">\n",
              "        \n",
              "  <svg xmlns=\"http://www.w3.org/2000/svg\" height=\"24px\"viewBox=\"0 0 24 24\"\n",
              "       width=\"24px\">\n",
              "    <path d=\"M0 0h24v24H0V0z\" fill=\"none\"/>\n",
              "    <path d=\"M18.56 5.44l.94 2.06.94-2.06 2.06-.94-2.06-.94-.94-2.06-.94 2.06-2.06.94zm-11 1L8.5 8.5l.94-2.06 2.06-.94-2.06-.94L8.5 2.5l-.94 2.06-2.06.94zm10 10l.94 2.06.94-2.06 2.06-.94-2.06-.94-.94-2.06-.94 2.06-2.06.94z\"/><path d=\"M17.41 7.96l-1.37-1.37c-.4-.4-.92-.59-1.43-.59-.52 0-1.04.2-1.43.59L10.3 9.45l-7.72 7.72c-.78.78-.78 2.05 0 2.83L4 21.41c.39.39.9.59 1.41.59.51 0 1.02-.2 1.41-.59l7.78-7.78 2.81-2.81c.8-.78.8-2.07 0-2.86zM5.41 20L4 18.59l7.72-7.72 1.47 1.35L5.41 20z\"/>\n",
              "  </svg>\n",
              "      </button>\n",
              "      \n",
              "  <style>\n",
              "    .colab-df-container {\n",
              "      display:flex;\n",
              "      flex-wrap:wrap;\n",
              "      gap: 12px;\n",
              "    }\n",
              "\n",
              "    .colab-df-convert {\n",
              "      background-color: #E8F0FE;\n",
              "      border: none;\n",
              "      border-radius: 50%;\n",
              "      cursor: pointer;\n",
              "      display: none;\n",
              "      fill: #1967D2;\n",
              "      height: 32px;\n",
              "      padding: 0 0 0 0;\n",
              "      width: 32px;\n",
              "    }\n",
              "\n",
              "    .colab-df-convert:hover {\n",
              "      background-color: #E2EBFA;\n",
              "      box-shadow: 0px 1px 2px rgba(60, 64, 67, 0.3), 0px 1px 3px 1px rgba(60, 64, 67, 0.15);\n",
              "      fill: #174EA6;\n",
              "    }\n",
              "\n",
              "    [theme=dark] .colab-df-convert {\n",
              "      background-color: #3B4455;\n",
              "      fill: #D2E3FC;\n",
              "    }\n",
              "\n",
              "    [theme=dark] .colab-df-convert:hover {\n",
              "      background-color: #434B5C;\n",
              "      box-shadow: 0px 1px 3px 1px rgba(0, 0, 0, 0.15);\n",
              "      filter: drop-shadow(0px 1px 2px rgba(0, 0, 0, 0.3));\n",
              "      fill: #FFFFFF;\n",
              "    }\n",
              "  </style>\n",
              "\n",
              "      <script>\n",
              "        const buttonEl =\n",
              "          document.querySelector('#df-b91d926d-1585-49db-9d75-32fdd6ce5e77 button.colab-df-convert');\n",
              "        buttonEl.style.display =\n",
              "          google.colab.kernel.accessAllowed ? 'block' : 'none';\n",
              "\n",
              "        async function convertToInteractive(key) {\n",
              "          const element = document.querySelector('#df-b91d926d-1585-49db-9d75-32fdd6ce5e77');\n",
              "          const dataTable =\n",
              "            await google.colab.kernel.invokeFunction('convertToInteractive',\n",
              "                                                     [key], {});\n",
              "          if (!dataTable) return;\n",
              "\n",
              "          const docLinkHtml = 'Like what you see? Visit the ' +\n",
              "            '<a target=\"_blank\" href=https://colab.research.google.com/notebooks/data_table.ipynb>data table notebook</a>'\n",
              "            + ' to learn more about interactive tables.';\n",
              "          element.innerHTML = '';\n",
              "          dataTable['output_type'] = 'display_data';\n",
              "          await google.colab.output.renderOutput(dataTable, element);\n",
              "          const docLink = document.createElement('div');\n",
              "          docLink.innerHTML = docLinkHtml;\n",
              "          element.appendChild(docLink);\n",
              "        }\n",
              "      </script>\n",
              "    </div>\n",
              "  </div>\n",
              "  "
            ]
          },
          "metadata": {},
          "execution_count": 5
        }
      ]
    },
    {
      "cell_type": "code",
      "source": [
        "data.isna().sum()\n"
      ],
      "metadata": {
        "colab": {
          "base_uri": "https://localhost:8080/"
        },
        "id": "lScyXKdWzkha",
        "outputId": "9dd796b1-ba1c-4fbe-c4b4-9efefc7e8715"
      },
      "execution_count": null,
      "outputs": [
        {
          "output_type": "execute_result",
          "data": {
            "text/plain": [
              "MLS                   0\n",
              "sold_price            0\n",
              "zipcode               0\n",
              "longitude             0\n",
              "latitude              0\n",
              "lot_acres            10\n",
              "taxes                 0\n",
              "year_built            0\n",
              "bedrooms              0\n",
              "bathrooms             6\n",
              "sqrt_ft              56\n",
              "garage                7\n",
              "kitchen_features      0\n",
              "fireplaces           25\n",
              "floor_covering        1\n",
              "HOA                 562\n",
              "dtype: int64"
            ]
          },
          "metadata": {},
          "execution_count": 7
        }
      ]
    },
    {
      "cell_type": "markdown",
      "source": [
        "Now, we know that the total of nans from the data are less than 30% of the total size, we could use some substitution for the missing data from HOA variable. The rest could be delete with dropna.\n",
        "\n"
      ],
      "metadata": {
        "id": "nk9ye-nqfXSX"
      }
    },
    {
      "cell_type": "code",
      "source": [
        "data['bathrooms'].nunique()"
      ],
      "metadata": {
        "colab": {
          "base_uri": "https://localhost:8080/"
        },
        "id": "qS5uE9-lgM4q",
        "outputId": "5bc7f366-6739-4c8d-ee88-9c5aebaff401"
      },
      "execution_count": null,
      "outputs": [
        {
          "output_type": "execute_result",
          "data": {
            "text/plain": [
              "19"
            ]
          },
          "metadata": {},
          "execution_count": 16
        }
      ]
    },
    {
      "cell_type": "code",
      "source": [
        "data.max()"
      ],
      "metadata": {
        "colab": {
          "base_uri": "https://localhost:8080/"
        },
        "id": "DOkSCEuhOGU-",
        "outputId": "175f078f-8b74-45ee-8f75-b71c43f6329f"
      },
      "execution_count": null,
      "outputs": [
        {
          "output_type": "stream",
          "name": "stderr",
          "text": [
            "/usr/local/lib/python3.7/dist-packages/ipykernel_launcher.py:1: FutureWarning: Dropping of nuisance columns in DataFrame reductions (with 'numeric_only=None') is deprecated; in a future version this will raise TypeError.  Select only valid columns before calling the reduction.\n",
            "  \"\"\"Entry point for launching an IPython kernel.\n"
          ]
        },
        {
          "output_type": "execute_result",
          "data": {
            "text/plain": [
              "MLS                   21928565\n",
              "sold_price           5300000.0\n",
              "zipcode                  86323\n",
              "longitude          -109.454637\n",
              "latitude             34.927884\n",
              "lot_acres               2154.0\n",
              "taxes               12215075.0\n",
              "year_built                2019\n",
              "bedrooms                    36\n",
              "kitchen_features       Wet Bar\n",
              "fireplaces                 9.0\n",
              "dtype: object"
            ]
          },
          "metadata": {},
          "execution_count": 8
        }
      ]
    },
    {
      "cell_type": "code",
      "source": [
        "data['lot_acres'].isnull().sum()"
      ],
      "metadata": {
        "colab": {
          "base_uri": "https://localhost:8080/"
        },
        "id": "OQ38zkpMhB4Z",
        "outputId": "edb7ed33-37b6-4c2f-ed67-8d2dce5cfd79"
      },
      "execution_count": null,
      "outputs": [
        {
          "output_type": "execute_result",
          "data": {
            "text/plain": [
              "10"
            ]
          },
          "metadata": {},
          "execution_count": 58
        }
      ]
    },
    {
      "cell_type": "code",
      "source": [
        "table = data['kitchen_features'].nunique()\n",
        "table"
      ],
      "metadata": {
        "colab": {
          "base_uri": "https://localhost:8080/"
        },
        "id": "7gzFGAKfcp1q",
        "outputId": "1c123ac6-ed34-4da8-f58c-06bae8ad36ad"
      },
      "execution_count": null,
      "outputs": [
        {
          "output_type": "execute_result",
          "data": {
            "text/plain": [
              "1872"
            ]
          },
          "metadata": {},
          "execution_count": 59
        }
      ]
    },
    {
      "cell_type": "code",
      "source": [
        "for kitchen_features in data:\n",
        "  print(df['kitchen_features'].unique())\n",
        "  print(df['kitchen_features'].isna())"
      ],
      "metadata": {
        "colab": {
          "base_uri": "https://localhost:8080/"
        },
        "id": "gASytK6ydFc_",
        "outputId": "62da2065-269b-4248-cd90-ed4b4c289987"
      },
      "execution_count": null,
      "outputs": [
        {
          "output_type": "stream",
          "name": "stdout",
          "text": [
            "['Dishwasher, Freezer, Refrigerator, Oven' 'Dishwasher, Garbage Disposal'\n",
            " 'Dishwasher, Garbage Disposal, Refrigerator' ...\n",
            " 'Dishwasher, Electric Range, Island, Refrigerator, Reverse Osmosis, Appliance Color: Stainless'\n",
            " 'Dishwasher, Double Sink, Garbage Disposal, Gas Range, Pantry: Cabinet, Appliance Color: Stainless, Countertops: Granite slab, Microwave: Stainless over oven, Oven: wall'\n",
            " 'Compactor, Dishwasher, Double Sink, Island, Appliance Color: Stainless']\n",
            "['Dishwasher, Freezer, Refrigerator, Oven' 'Dishwasher, Garbage Disposal'\n",
            " 'Dishwasher, Garbage Disposal, Refrigerator' ...\n",
            " 'Dishwasher, Electric Range, Island, Refrigerator, Reverse Osmosis, Appliance Color: Stainless'\n",
            " 'Dishwasher, Double Sink, Garbage Disposal, Gas Range, Pantry: Cabinet, Appliance Color: Stainless, Countertops: Granite slab, Microwave: Stainless over oven, Oven: wall'\n",
            " 'Compactor, Dishwasher, Double Sink, Island, Appliance Color: Stainless']\n",
            "['Dishwasher, Freezer, Refrigerator, Oven' 'Dishwasher, Garbage Disposal'\n",
            " 'Dishwasher, Garbage Disposal, Refrigerator' ...\n",
            " 'Dishwasher, Electric Range, Island, Refrigerator, Reverse Osmosis, Appliance Color: Stainless'\n",
            " 'Dishwasher, Double Sink, Garbage Disposal, Gas Range, Pantry: Cabinet, Appliance Color: Stainless, Countertops: Granite slab, Microwave: Stainless over oven, Oven: wall'\n",
            " 'Compactor, Dishwasher, Double Sink, Island, Appliance Color: Stainless']\n",
            "['Dishwasher, Freezer, Refrigerator, Oven' 'Dishwasher, Garbage Disposal'\n",
            " 'Dishwasher, Garbage Disposal, Refrigerator' ...\n",
            " 'Dishwasher, Electric Range, Island, Refrigerator, Reverse Osmosis, Appliance Color: Stainless'\n",
            " 'Dishwasher, Double Sink, Garbage Disposal, Gas Range, Pantry: Cabinet, Appliance Color: Stainless, Countertops: Granite slab, Microwave: Stainless over oven, Oven: wall'\n",
            " 'Compactor, Dishwasher, Double Sink, Island, Appliance Color: Stainless']\n",
            "['Dishwasher, Freezer, Refrigerator, Oven' 'Dishwasher, Garbage Disposal'\n",
            " 'Dishwasher, Garbage Disposal, Refrigerator' ...\n",
            " 'Dishwasher, Electric Range, Island, Refrigerator, Reverse Osmosis, Appliance Color: Stainless'\n",
            " 'Dishwasher, Double Sink, Garbage Disposal, Gas Range, Pantry: Cabinet, Appliance Color: Stainless, Countertops: Granite slab, Microwave: Stainless over oven, Oven: wall'\n",
            " 'Compactor, Dishwasher, Double Sink, Island, Appliance Color: Stainless']\n",
            "['Dishwasher, Freezer, Refrigerator, Oven' 'Dishwasher, Garbage Disposal'\n",
            " 'Dishwasher, Garbage Disposal, Refrigerator' ...\n",
            " 'Dishwasher, Electric Range, Island, Refrigerator, Reverse Osmosis, Appliance Color: Stainless'\n",
            " 'Dishwasher, Double Sink, Garbage Disposal, Gas Range, Pantry: Cabinet, Appliance Color: Stainless, Countertops: Granite slab, Microwave: Stainless over oven, Oven: wall'\n",
            " 'Compactor, Dishwasher, Double Sink, Island, Appliance Color: Stainless']\n",
            "['Dishwasher, Freezer, Refrigerator, Oven' 'Dishwasher, Garbage Disposal'\n",
            " 'Dishwasher, Garbage Disposal, Refrigerator' ...\n",
            " 'Dishwasher, Electric Range, Island, Refrigerator, Reverse Osmosis, Appliance Color: Stainless'\n",
            " 'Dishwasher, Double Sink, Garbage Disposal, Gas Range, Pantry: Cabinet, Appliance Color: Stainless, Countertops: Granite slab, Microwave: Stainless over oven, Oven: wall'\n",
            " 'Compactor, Dishwasher, Double Sink, Island, Appliance Color: Stainless']\n",
            "['Dishwasher, Freezer, Refrigerator, Oven' 'Dishwasher, Garbage Disposal'\n",
            " 'Dishwasher, Garbage Disposal, Refrigerator' ...\n",
            " 'Dishwasher, Electric Range, Island, Refrigerator, Reverse Osmosis, Appliance Color: Stainless'\n",
            " 'Dishwasher, Double Sink, Garbage Disposal, Gas Range, Pantry: Cabinet, Appliance Color: Stainless, Countertops: Granite slab, Microwave: Stainless over oven, Oven: wall'\n",
            " 'Compactor, Dishwasher, Double Sink, Island, Appliance Color: Stainless']\n",
            "['Dishwasher, Freezer, Refrigerator, Oven' 'Dishwasher, Garbage Disposal'\n",
            " 'Dishwasher, Garbage Disposal, Refrigerator' ...\n",
            " 'Dishwasher, Electric Range, Island, Refrigerator, Reverse Osmosis, Appliance Color: Stainless'\n",
            " 'Dishwasher, Double Sink, Garbage Disposal, Gas Range, Pantry: Cabinet, Appliance Color: Stainless, Countertops: Granite slab, Microwave: Stainless over oven, Oven: wall'\n",
            " 'Compactor, Dishwasher, Double Sink, Island, Appliance Color: Stainless']\n",
            "['Dishwasher, Freezer, Refrigerator, Oven' 'Dishwasher, Garbage Disposal'\n",
            " 'Dishwasher, Garbage Disposal, Refrigerator' ...\n",
            " 'Dishwasher, Electric Range, Island, Refrigerator, Reverse Osmosis, Appliance Color: Stainless'\n",
            " 'Dishwasher, Double Sink, Garbage Disposal, Gas Range, Pantry: Cabinet, Appliance Color: Stainless, Countertops: Granite slab, Microwave: Stainless over oven, Oven: wall'\n",
            " 'Compactor, Dishwasher, Double Sink, Island, Appliance Color: Stainless']\n",
            "['Dishwasher, Freezer, Refrigerator, Oven' 'Dishwasher, Garbage Disposal'\n",
            " 'Dishwasher, Garbage Disposal, Refrigerator' ...\n",
            " 'Dishwasher, Electric Range, Island, Refrigerator, Reverse Osmosis, Appliance Color: Stainless'\n",
            " 'Dishwasher, Double Sink, Garbage Disposal, Gas Range, Pantry: Cabinet, Appliance Color: Stainless, Countertops: Granite slab, Microwave: Stainless over oven, Oven: wall'\n",
            " 'Compactor, Dishwasher, Double Sink, Island, Appliance Color: Stainless']\n",
            "['Dishwasher, Freezer, Refrigerator, Oven' 'Dishwasher, Garbage Disposal'\n",
            " 'Dishwasher, Garbage Disposal, Refrigerator' ...\n",
            " 'Dishwasher, Electric Range, Island, Refrigerator, Reverse Osmosis, Appliance Color: Stainless'\n",
            " 'Dishwasher, Double Sink, Garbage Disposal, Gas Range, Pantry: Cabinet, Appliance Color: Stainless, Countertops: Granite slab, Microwave: Stainless over oven, Oven: wall'\n",
            " 'Compactor, Dishwasher, Double Sink, Island, Appliance Color: Stainless']\n",
            "['Dishwasher, Freezer, Refrigerator, Oven' 'Dishwasher, Garbage Disposal'\n",
            " 'Dishwasher, Garbage Disposal, Refrigerator' ...\n",
            " 'Dishwasher, Electric Range, Island, Refrigerator, Reverse Osmosis, Appliance Color: Stainless'\n",
            " 'Dishwasher, Double Sink, Garbage Disposal, Gas Range, Pantry: Cabinet, Appliance Color: Stainless, Countertops: Granite slab, Microwave: Stainless over oven, Oven: wall'\n",
            " 'Compactor, Dishwasher, Double Sink, Island, Appliance Color: Stainless']\n",
            "['Dishwasher, Freezer, Refrigerator, Oven' 'Dishwasher, Garbage Disposal'\n",
            " 'Dishwasher, Garbage Disposal, Refrigerator' ...\n",
            " 'Dishwasher, Electric Range, Island, Refrigerator, Reverse Osmosis, Appliance Color: Stainless'\n",
            " 'Dishwasher, Double Sink, Garbage Disposal, Gas Range, Pantry: Cabinet, Appliance Color: Stainless, Countertops: Granite slab, Microwave: Stainless over oven, Oven: wall'\n",
            " 'Compactor, Dishwasher, Double Sink, Island, Appliance Color: Stainless']\n",
            "['Dishwasher, Freezer, Refrigerator, Oven' 'Dishwasher, Garbage Disposal'\n",
            " 'Dishwasher, Garbage Disposal, Refrigerator' ...\n",
            " 'Dishwasher, Electric Range, Island, Refrigerator, Reverse Osmosis, Appliance Color: Stainless'\n",
            " 'Dishwasher, Double Sink, Garbage Disposal, Gas Range, Pantry: Cabinet, Appliance Color: Stainless, Countertops: Granite slab, Microwave: Stainless over oven, Oven: wall'\n",
            " 'Compactor, Dishwasher, Double Sink, Island, Appliance Color: Stainless']\n",
            "['Dishwasher, Freezer, Refrigerator, Oven' 'Dishwasher, Garbage Disposal'\n",
            " 'Dishwasher, Garbage Disposal, Refrigerator' ...\n",
            " 'Dishwasher, Electric Range, Island, Refrigerator, Reverse Osmosis, Appliance Color: Stainless'\n",
            " 'Dishwasher, Double Sink, Garbage Disposal, Gas Range, Pantry: Cabinet, Appliance Color: Stainless, Countertops: Granite slab, Microwave: Stainless over oven, Oven: wall'\n",
            " 'Compactor, Dishwasher, Double Sink, Island, Appliance Color: Stainless']\n"
          ]
        }
      ]
    },
    {
      "cell_type": "code",
      "source": [
        "checkdata = data\n",
        "checkdata[\"sqrt_ft\"] = checkdata.sqrt_ft.astype(float)"
      ],
      "metadata": {
        "id": "lxXjQMCHa6TC"
      },
      "execution_count": null,
      "outputs": []
    },
    {
      "cell_type": "markdown",
      "source": [
        "We tried to change the types from the columns with a dictionary, but, we found some info like this '20,000' causing conflit to use that method, however, pandas.Series.astype give us result\n",
        "\n"
      ],
      "metadata": {
        "id": "781FyTW6cCA8"
      }
    },
    {
      "cell_type": "code",
      "source": [
        "checkdata.dtypes"
      ],
      "metadata": {
        "colab": {
          "base_uri": "https://localhost:8080/"
        },
        "id": "8ZWRB0CWbHZu",
        "outputId": "1094d2fc-248e-4556-abfa-748d1e0d3983"
      },
      "execution_count": null,
      "outputs": [
        {
          "output_type": "execute_result",
          "data": {
            "text/plain": [
              "MLS                   int64\n",
              "sold_price          float64\n",
              "zipcode               int64\n",
              "longitude           float64\n",
              "latitude            float64\n",
              "lot_acres           float64\n",
              "taxes               float64\n",
              "year_built            int64\n",
              "bedrooms              int64\n",
              "bathrooms            object\n",
              "sqrt_ft             float64\n",
              "garage               object\n",
              "kitchen_features     object\n",
              "fireplaces          float64\n",
              "floor_covering       object\n",
              "HOA                  object\n",
              "dtype: object"
            ]
          },
          "metadata": {},
          "execution_count": 7
        }
      ]
    },
    {
      "cell_type": "code",
      "source": [
        "checkdata[\"bathrooms\"] = checkdata.bathrooms.astype(float)\n",
        "checkdata[\"garage\"] = checkdata.garage.astype(float)\n",
        "\n",
        "checkdata.dtypes"
      ],
      "metadata": {
        "colab": {
          "base_uri": "https://localhost:8080/"
        },
        "id": "rdX-lxZVXgFo",
        "outputId": "bcf9e956-7fa4-447a-b213-9f8518f6d78d"
      },
      "execution_count": null,
      "outputs": [
        {
          "output_type": "execute_result",
          "data": {
            "text/plain": [
              "MLS                   int64\n",
              "sold_price          float64\n",
              "zipcode               int64\n",
              "longitude           float64\n",
              "latitude            float64\n",
              "lot_acres           float64\n",
              "taxes               float64\n",
              "year_built            int64\n",
              "bedrooms              int64\n",
              "bathrooms           float64\n",
              "sqrt_ft             float64\n",
              "garage              float64\n",
              "kitchen_features     object\n",
              "fireplaces          float64\n",
              "floor_covering       object\n",
              "HOA                  object\n",
              "dtype: object"
            ]
          },
          "metadata": {},
          "execution_count": 10
        }
      ]
    },
    {
      "cell_type": "code",
      "source": [
        "checkdata['HOA'] = checkdata['HOA'].replace(',','', regex=True)\n",
        "checkdata[\"HOA\"] = checkdata.HOA.astype(float)\n",
        "checkdata.dtypes"
      ],
      "metadata": {
        "colab": {
          "base_uri": "https://localhost:8080/"
        },
        "id": "PvOdslrNXgHK",
        "outputId": "1b4b3391-0fa9-491b-8a41-47bc1b8c8a20"
      },
      "execution_count": null,
      "outputs": [
        {
          "output_type": "execute_result",
          "data": {
            "text/plain": [
              "MLS                   int64\n",
              "sold_price          float64\n",
              "zipcode               int64\n",
              "longitude           float64\n",
              "latitude            float64\n",
              "lot_acres           float64\n",
              "taxes               float64\n",
              "year_built            int64\n",
              "bedrooms              int64\n",
              "bathrooms           float64\n",
              "sqrt_ft             float64\n",
              "garage              float64\n",
              "kitchen_features     object\n",
              "fireplaces          float64\n",
              "floor_covering       object\n",
              "HOA                 float64\n",
              "dtype: object"
            ]
          },
          "metadata": {},
          "execution_count": 11
        }
      ]
    },
    {
      "cell_type": "code",
      "source": [
        "checkdata.isna().sum()"
      ],
      "metadata": {
        "colab": {
          "base_uri": "https://localhost:8080/"
        },
        "id": "HK8KjqaA2uBj",
        "outputId": "422f0f98-1ab3-4efd-cf73-f013a13f8570"
      },
      "execution_count": null,
      "outputs": [
        {
          "output_type": "execute_result",
          "data": {
            "text/plain": [
              "MLS                   0\n",
              "sold_price            0\n",
              "zipcode               0\n",
              "longitude             0\n",
              "latitude              0\n",
              "lot_acres            10\n",
              "taxes                 0\n",
              "year_built            0\n",
              "bedrooms              0\n",
              "bathrooms             6\n",
              "sqrt_ft              56\n",
              "garage                7\n",
              "kitchen_features      0\n",
              "fireplaces           25\n",
              "floor_covering        1\n",
              "HOA                 562\n",
              "dtype: int64"
            ]
          },
          "metadata": {},
          "execution_count": 12
        }
      ]
    },
    {
      "cell_type": "code",
      "source": [
        "checkdata.max()"
      ],
      "metadata": {
        "colab": {
          "base_uri": "https://localhost:8080/"
        },
        "id": "9OaEs-YdOgwQ",
        "outputId": "b77f9267-9c74-4ea2-9303-c8db501b734c"
      },
      "execution_count": null,
      "outputs": [
        {
          "output_type": "stream",
          "name": "stderr",
          "text": [
            "/usr/local/lib/python3.7/dist-packages/ipykernel_launcher.py:1: FutureWarning: Dropping of nuisance columns in DataFrame reductions (with 'numeric_only=None') is deprecated; in a future version this will raise TypeError.  Select only valid columns before calling the reduction.\n",
            "  \"\"\"Entry point for launching an IPython kernel.\n"
          ]
        },
        {
          "output_type": "execute_result",
          "data": {
            "text/plain": [
              "MLS                   21928565\n",
              "sold_price           5300000.0\n",
              "zipcode                  86323\n",
              "longitude          -109.454637\n",
              "latitude             34.927884\n",
              "lot_acres               2154.0\n",
              "taxes               12215075.0\n",
              "year_built                2019\n",
              "bedrooms                    36\n",
              "bathrooms                 36.0\n",
              "sqrt_ft                22408.0\n",
              "garage                    30.0\n",
              "kitchen_features       Wet Bar\n",
              "fireplaces                 9.0\n",
              "HOA                    20000.0\n",
              "dtype: object"
            ]
          },
          "metadata": {},
          "execution_count": 13
        }
      ]
    },
    {
      "cell_type": "markdown",
      "source": [
        "The HOA variable had int, float and objets in the same colunm, so, in order to deal with it, the ',' were replace by '' and now it could be apply the type as float."
      ],
      "metadata": {
        "id": "JBMI0rOc14VT"
      }
    },
    {
      "cell_type": "code",
      "source": [
        "fig = plt.figure(figsize = (15,20))\n",
        "ax = fig.gca()\n",
        "checkdata.hist(ax = ax)"
      ],
      "metadata": {
        "colab": {
          "base_uri": "https://localhost:8080/",
          "height": 1171
        },
        "id": "lyMsci_aVQPp",
        "outputId": "f59ac1c2-ea61-492f-896c-0439011814b3"
      },
      "execution_count": null,
      "outputs": [
        {
          "output_type": "stream",
          "name": "stderr",
          "text": [
            "/usr/local/lib/python3.7/dist-packages/ipykernel_launcher.py:3: UserWarning: To output multiple subplots, the figure containing the passed axes is being cleared\n",
            "  This is separate from the ipykernel package so we can avoid doing imports until\n"
          ]
        },
        {
          "output_type": "execute_result",
          "data": {
            "text/plain": [
              "array([[<matplotlib.axes._subplots.AxesSubplot object at 0x7f8707d067d0>,\n",
              "        <matplotlib.axes._subplots.AxesSubplot object at 0x7f8707a29d10>,\n",
              "        <matplotlib.axes._subplots.AxesSubplot object at 0x7f87079e8250>,\n",
              "        <matplotlib.axes._subplots.AxesSubplot object at 0x7f870799d750>],\n",
              "       [<matplotlib.axes._subplots.AxesSubplot object at 0x7f870794dfd0>,\n",
              "        <matplotlib.axes._subplots.AxesSubplot object at 0x7f870790e5d0>,\n",
              "        <matplotlib.axes._subplots.AxesSubplot object at 0x7f87078c1b50>,\n",
              "        <matplotlib.axes._subplots.AxesSubplot object at 0x7f87078edb10>],\n",
              "       [<matplotlib.axes._subplots.AxesSubplot object at 0x7f8707886050>,\n",
              "        <matplotlib.axes._subplots.AxesSubplot object at 0x7f87078bd590>,\n",
              "        <matplotlib.axes._subplots.AxesSubplot object at 0x7f87083cd290>,\n",
              "        <matplotlib.axes._subplots.AxesSubplot object at 0x7f87082af390>],\n",
              "       [<matplotlib.axes._subplots.AxesSubplot object at 0x7f87082d8490>,\n",
              "        <matplotlib.axes._subplots.AxesSubplot object at 0x7f8708086790>,\n",
              "        <matplotlib.axes._subplots.AxesSubplot object at 0x7f870775da50>,\n",
              "        <matplotlib.axes._subplots.AxesSubplot object at 0x7f87077210d0>]],\n",
              "      dtype=object)"
            ]
          },
          "metadata": {},
          "execution_count": 22
        },
        {
          "output_type": "display_data",
          "data": {
            "text/plain": [
              "<Figure size 1080x1440 with 16 Axes>"
            ],
            "image/png": "[encoded data removed]"
          },
          "metadata": {
            "needs_background": "light"
          }
        }
      ]
    },
    {
      "cell_type": "code",
      "source": [
        "sns.heatmap(checkdata.corr())"
      ],
      "metadata": {
        "colab": {
          "base_uri": "https://localhost:8080/",
          "height": 330
        },
        "id": "80Amu8jqPa8q",
        "outputId": "fc3822c7-f0c2-45db-a13d-60aef1220b5a"
      },
      "execution_count": null,
      "outputs": [
        {
          "output_type": "execute_result",
          "data": {
            "text/plain": [
              "<matplotlib.axes._subplots.AxesSubplot at 0x7f26653b1950>"
            ]
          },
          "metadata": {},
          "execution_count": 15
        },
        {
          "output_type": "display_data",
          "data": {
            "text/plain": [
              "<Figure size 432x288 with 2 Axes>"
            ],
            "image/png": "[encoded data removed]"
          },
          "metadata": {
            "needs_background": "light"
          }
        }
      ]
    },
    {
      "cell_type": "code",
      "source": [
        "msno.bar(checkdata)"
      ],
      "metadata": {
        "colab": {
          "base_uri": "https://localhost:8080/",
          "height": 337
        },
        "id": "ZFrkGeU5vnaU",
        "outputId": "52a2df0d-bc76-4e44-eb2f-53d62abc1da1"
      },
      "execution_count": null,
      "outputs": [
        {
          "output_type": "execute_result",
          "data": {
            "text/plain": [
              "<matplotlib.axes._subplots.AxesSubplot at 0x7fcf0b46c390>"
            ]
          },
          "metadata": {},
          "execution_count": 71
        },
        {
          "output_type": "display_data",
          "data": {
            "text/plain": [
              "<Figure size 1800x720 with 3 Axes>"
            ],
            "image/png": "[encoded data removed]"
          },
          "metadata": {
            "needs_background": "light"
          }
        }
      ]
    },
    {
      "cell_type": "code",
      "source": [
        "msno.matrix(checkdata)"
      ],
      "metadata": {
        "colab": {
          "base_uri": "https://localhost:8080/",
          "height": 575
        },
        "id": "X1-2nTWX3PbC",
        "outputId": "a9dd414d-77d6-4638-baae-5862a63bdf34"
      },
      "execution_count": null,
      "outputs": [
        {
          "output_type": "execute_result",
          "data": {
            "text/plain": [
              "<matplotlib.axes._subplots.AxesSubplot at 0x7fcf0b354b50>"
            ]
          },
          "metadata": {},
          "execution_count": 72
        },
        {
          "output_type": "display_data",
          "data": {
            "text/plain": [
              "<Figure size 1800x720 with 2 Axes>"
            ],
            "image/png": "[encoded data removed]"
          },
          "metadata": {
            "needs_background": "light"
          }
        }
      ]
    },
    {
      "cell_type": "markdown",
      "source": [
        "Image 1 and 2. Shows the cuantitive and places where is the missing data."
      ],
      "metadata": {
        "id": "q4wGg3nw3EIF"
      }
    },
    {
      "cell_type": "markdown",
      "source": [
        "# Substitution \n"
      ],
      "metadata": {
        "id": "nQ_W9ANW3zvH"
      }
    },
    {
      "cell_type": "markdown",
      "source": [
        "It was choose, beacuase we had the data to do the model, is quick and simple."
      ],
      "metadata": {
        "id": "O2ctE743pTxu"
      }
    },
    {
      "cell_type": "code",
      "source": [
        "checkdata.dtypes"
      ],
      "metadata": {
        "colab": {
          "base_uri": "https://localhost:8080/"
        },
        "id": "rkoicKm0Ty4A",
        "outputId": "d6cf75d8-1b73-4393-e778-a3fb19f67461"
      },
      "execution_count": null,
      "outputs": [
        {
          "output_type": "execute_result",
          "data": {
            "text/plain": [
              "MLS                   int64\n",
              "sold_price          float64\n",
              "zipcode               int64\n",
              "longitude           float64\n",
              "latitude            float64\n",
              "lot_acres           float64\n",
              "taxes               float64\n",
              "year_built            int64\n",
              "bedrooms              int64\n",
              "bathrooms           float64\n",
              "sqrt_ft             float64\n",
              "garage              float64\n",
              "kitchen_features     object\n",
              "fireplaces          float64\n",
              "floor_covering       object\n",
              "HOA                 float64\n",
              "dtype: object"
            ]
          },
          "metadata": {},
          "execution_count": 21
        }
      ]
    },
    {
      "cell_type": "code",
      "source": [
        "checkdata.mean()"
      ],
      "metadata": {
        "colab": {
          "base_uri": "https://localhost:8080/"
        },
        "id": "VSL0-ZXxS1_o",
        "outputId": "9ad5bb00-ee02-477a-d9c6-df68f30c8bbc"
      },
      "execution_count": null,
      "outputs": [
        {
          "output_type": "stream",
          "name": "stderr",
          "text": [
            "/usr/local/lib/python3.7/dist-packages/ipykernel_launcher.py:1: FutureWarning: Dropping of nuisance columns in DataFrame reductions (with 'numeric_only=None') is deprecated; in a future version this will raise TypeError.  Select only valid columns before calling the reduction.\n",
            "  \"\"\"Entry point for launching an IPython kernel.\n"
          ]
        },
        {
          "output_type": "execute_result",
          "data": {
            "text/plain": [
              "MLS           2.127070e+07\n",
              "sold_price    7.746262e+05\n",
              "zipcode       8.572303e+04\n",
              "longitude    -1.109121e+02\n",
              "latitude      3.230851e+01\n",
              "lot_acres     4.661317e+00\n",
              "taxes         9.402828e+03\n",
              "year_built    1.992328e+03\n",
              "bedrooms      3.933800e+00\n",
              "bathrooms     3.829896e+00\n",
              "sqrt_ft       3.716367e+03\n",
              "garage        2.816143e+00\n",
              "fireplaces    1.885226e+00\n",
              "HOA           1.030431e+02\n",
              "dtype: float64"
            ]
          },
          "metadata": {},
          "execution_count": 11
        }
      ]
    },
    {
      "cell_type": "code",
      "source": [
        "checkdata.median()"
      ],
      "metadata": {
        "colab": {
          "base_uri": "https://localhost:8080/"
        },
        "id": "mNLikDGdTI-V",
        "outputId": "c71c5102-d822-46ae-d703-7091579a1d72"
      },
      "execution_count": null,
      "outputs": [
        {
          "output_type": "stream",
          "name": "stderr",
          "text": [
            "/usr/local/lib/python3.7/dist-packages/ipykernel_launcher.py:1: FutureWarning: Dropping of nuisance columns in DataFrame reductions (with 'numeric_only=None') is deprecated; in a future version this will raise TypeError.  Select only valid columns before calling the reduction.\n",
            "  \"\"\"Entry point for launching an IPython kernel.\n"
          ]
        },
        {
          "output_type": "execute_result",
          "data": {
            "text/plain": [
              "MLS           2.161469e+07\n",
              "sold_price    6.750000e+05\n",
              "zipcode       8.573700e+04\n",
              "longitude    -1.109234e+02\n",
              "latitude      3.231852e+01\n",
              "lot_acres     9.900000e-01\n",
              "taxes         6.223760e+03\n",
              "year_built    1.999000e+03\n",
              "bedrooms      4.000000e+00\n",
              "bathrooms     4.000000e+00\n",
              "sqrt_ft       3.512000e+03\n",
              "garage        3.000000e+00\n",
              "fireplaces    2.000000e+00\n",
              "HOA           5.600000e+01\n",
              "dtype: float64"
            ]
          },
          "metadata": {},
          "execution_count": 13
        }
      ]
    },
    {
      "cell_type": "markdown",
      "source": [
        "We select mean, to substitude the nans in the variable with more nans\n"
      ],
      "metadata": {
        "id": "mB9Y3ekKpcXt"
      }
    },
    {
      "cell_type": "code",
      "source": [
        "checkdata['HOA'] = checkdata['HOA'].fillna(checkdata['HOA'].median())\n",
        "checkdata.isna().sum()"
      ],
      "metadata": {
        "colab": {
          "base_uri": "https://localhost:8080/"
        },
        "id": "o9_vfS6V3Uem",
        "outputId": "aa462973-0770-4d80-fa45-f0ce4b9a1142"
      },
      "execution_count": null,
      "outputs": [
        {
          "output_type": "execute_result",
          "data": {
            "text/plain": [
              "MLS                  0\n",
              "sold_price           0\n",
              "zipcode              0\n",
              "longitude            0\n",
              "latitude             0\n",
              "lot_acres           10\n",
              "taxes                0\n",
              "year_built           0\n",
              "bedrooms             0\n",
              "bathrooms            6\n",
              "sqrt_ft             56\n",
              "garage               7\n",
              "kitchen_features     0\n",
              "fireplaces          25\n",
              "floor_covering       1\n",
              "HOA                  0\n",
              "dtype: int64"
            ]
          },
          "metadata": {},
          "execution_count": 16
        }
      ]
    },
    {
      "cell_type": "code",
      "source": [
        "fig = plt.figure(figsize = (15,20))\n",
        "ax = fig.gca()\n",
        "checkdata.hist(ax = ax)"
      ],
      "metadata": {
        "colab": {
          "base_uri": "https://localhost:8080/",
          "height": 1000
        },
        "id": "Gmf-eExWUvvR",
        "outputId": "6f94bcd5-081c-4e7e-92da-962254418eff"
      },
      "execution_count": null,
      "outputs": [
        {
          "output_type": "stream",
          "name": "stderr",
          "text": [
            "/usr/local/lib/python3.7/dist-packages/ipykernel_launcher.py:3: UserWarning: To output multiple subplots, the figure containing the passed axes is being cleared\n",
            "  This is separate from the ipykernel package so we can avoid doing imports until\n"
          ]
        },
        {
          "output_type": "execute_result",
          "data": {
            "text/plain": [
              "array([[<matplotlib.axes._subplots.AxesSubplot object at 0x7f2665bf44d0>,\n",
              "        <matplotlib.axes._subplots.AxesSubplot object at 0x7f2662a2f610>,\n",
              "        <matplotlib.axes._subplots.AxesSubplot object at 0x7f26629e5b50>,\n",
              "        <matplotlib.axes._subplots.AxesSubplot object at 0x7f2662a12b90>],\n",
              "       [<matplotlib.axes._subplots.AxesSubplot object at 0x7f2662957950>,\n",
              "        <matplotlib.axes._subplots.AxesSubplot object at 0x7f266613aa10>,\n",
              "        <matplotlib.axes._subplots.AxesSubplot object at 0x7f2665fdc590>,\n",
              "        <matplotlib.axes._subplots.AxesSubplot object at 0x7f2665d6cf10>],\n",
              "       [<matplotlib.axes._subplots.AxesSubplot object at 0x7f2665bf3110>,\n",
              "        <matplotlib.axes._subplots.AxesSubplot object at 0x7f266536d6d0>,\n",
              "        <matplotlib.axes._subplots.AxesSubplot object at 0x7f2662898d50>,\n",
              "        <matplotlib.axes._subplots.AxesSubplot object at 0x7f266285c390>],\n",
              "       [<matplotlib.axes._subplots.AxesSubplot object at 0x7f2662893990>,\n",
              "        <matplotlib.axes._subplots.AxesSubplot object at 0x7f266284af90>,\n",
              "        <matplotlib.axes._subplots.AxesSubplot object at 0x7f266280e5d0>,\n",
              "        <matplotlib.axes._subplots.AxesSubplot object at 0x7f26627c3bd0>]],\n",
              "      dtype=object)"
            ]
          },
          "metadata": {},
          "execution_count": 17
        },
        {
          "output_type": "display_data",
          "data": {
            "text/plain": [
              "<Figure size 1080x1440 with 16 Axes>"
            ],
            "image/png": "[encoded data removed]"
          },
          "metadata": {
            "needs_background": "light"
          }
        }
      ]
    },
    {
      "cell_type": "markdown",
      "source": [
        "Again, we check the distribution to see if the distribution show before change the nans were modify "
      ],
      "metadata": {
        "id": "E26r3CeeppRA"
      }
    },
    {
      "cell_type": "code",
      "source": [
        "checkdata.dropna()"
      ],
      "metadata": {
        "colab": {
          "base_uri": "https://localhost:8080/",
          "height": 904
        },
        "id": "pO5YG4dsjlDV",
        "outputId": "8ec81633-9b60-42b2-f8f7-ea06e0f8b860"
      },
      "execution_count": null,
      "outputs": [
        {
          "output_type": "execute_result",
          "data": {
            "text/plain": [
              "           MLS  sold_price  zipcode   longitude   latitude  lot_acres  \\\n",
              "0     21530491   5300000.0    85637 -110.378200  31.356362    2154.00   \n",
              "1     21529082   4200000.0    85646 -111.045371  31.594213    1707.00   \n",
              "3     21919321   4500000.0    85646 -111.035925  31.645878     636.67   \n",
              "4     21306357   3411450.0    85750 -110.813768  32.285162       3.21   \n",
              "5     21528016   3250000.0    85718 -110.910593  32.339090       1.67   \n",
              "...        ...         ...      ...         ...        ...        ...   \n",
              "4994  21909379    535000.0    85718 -110.922291  32.317496       0.18   \n",
              "4995  21810382    495000.0    85641 -110.661829  31.907917       4.98   \n",
              "4996  21908591    550000.0    85750 -110.858556  32.316373       1.42   \n",
              "4997  21832452    475000.0    85192 -110.755428  32.964708      12.06   \n",
              "4998  21900515    550000.0    85745 -111.055528  32.296871       1.01   \n",
              "\n",
              "         taxes  year_built  bedrooms  bathrooms  sqrt_ft  garage  \\\n",
              "0      5272.00        1941        13       10.0  10500.0     0.0   \n",
              "1     10422.36        1997         2        2.0   7300.0     0.0   \n",
              "3      8418.58        1930         7        5.0   9019.0     4.0   \n",
              "4     15393.00        1995         4        6.0   6396.0     3.0   \n",
              "5     27802.84        1999         3        4.0   6842.0     3.0   \n",
              "...        ...         ...       ...        ...      ...     ...   \n",
              "4994   4414.00        2002         3        2.0   2106.0     2.0   \n",
              "4995   2017.00        2005         5        3.0   3601.0     3.0   \n",
              "4996   4822.01        1990         4        3.0   2318.0     3.0   \n",
              "4997   1000.00        1969         3        2.0   1772.0     0.0   \n",
              "4998   5822.93        2009         4        4.0   3724.0     3.0   \n",
              "\n",
              "                                       kitchen_features  fireplaces  \\\n",
              "0               Dishwasher, Freezer, Refrigerator, Oven         6.0   \n",
              "1                          Dishwasher, Garbage Disposal         5.0   \n",
              "3     Dishwasher, Double Sink, Pantry: Butler, Refri...         4.0   \n",
              "4     Dishwasher, Garbage Disposal, Refrigerator, Mi...         5.0   \n",
              "5     Dishwasher, Garbage Disposal, Refrigerator, Mi...         5.0   \n",
              "...                                                 ...         ...   \n",
              "4994  Dishwasher, Double Sink, Electric Range, Garba...         1.0   \n",
              "4995  Dishwasher, Double Sink, Garbage Disposal, Gas...         1.0   \n",
              "4996  Dishwasher, Double Sink, Electric Range, Garba...         1.0   \n",
              "4997  Dishwasher, Electric Range, Island, Refrigerat...         0.0   \n",
              "4998  Dishwasher, Double Sink, Garbage Disposal, Gas...         1.0   \n",
              "\n",
              "                    floor_covering    HOA  \n",
              "0               Mexican Tile, Wood    0.0  \n",
              "1             Natural Stone, Other    0.0  \n",
              "3     Ceramic Tile, Laminate, Wood   56.0  \n",
              "4                 Carpet, Concrete   55.0  \n",
              "5       Natural Stone, Wood, Other  422.0  \n",
              "...                            ...    ...  \n",
              "4994                  Ceramic Tile  198.0  \n",
              "4995          Carpet, Ceramic Tile   56.0  \n",
              "4996          Carpet, Ceramic Tile   43.0  \n",
              "4997                  Ceramic Tile   56.0  \n",
              "4998          Carpet, Ceramic Tile   56.0  \n",
              "\n",
              "[4940 rows x 16 columns]"
            ],
            "text/html": [
              "\n",
              "  <div id=\"df-7e69a57b-35d6-4e07-aa3b-f357df411832\">\n",
              "    <div class=\"colab-df-container\">\n",
              "      <div>\n",
              "<style scoped>\n",
              "    .dataframe tbody tr th:only-of-type {\n",
              "        vertical-align: middle;\n",
              "    }\n",
              "\n",
              "    .dataframe tbody tr th {\n",
              "        vertical-align: top;\n",
              "    }\n",
              "\n",
              "    .dataframe thead th {\n",
              "        text-align: right;\n",
              "    }\n",
              "</style>\n",
              "<table border=\"1\" class=\"dataframe\">\n",
              "  <thead>\n",
              "    <tr style=\"text-align: right;\">\n",
              "      <th></th>\n",
              "      <th>MLS</th>\n",
              "      <th>sold_price</th>\n",
              "      <th>zipcode</th>\n",
              "      <th>longitude</th>\n",
              "      <th>latitude</th>\n",
              "      <th>lot_acres</th>\n",
              "      <th>taxes</th>\n",
              "      <th>year_built</th>\n",
              "      <th>bedrooms</th>\n",
              "      <th>bathrooms</th>\n",
              "      <th>sqrt_ft</th>\n",
              "      <th>garage</th>\n",
              "      <th>kitchen_features</th>\n",
              "      <th>fireplaces</th>\n",
              "      <th>floor_covering</th>\n",
              "      <th>HOA</th>\n",
              "    </tr>\n",
              "  </thead>\n",
              "  <tbody>\n",
              "    <tr>\n",
              "      <th>0</th>\n",
              "      <td>21530491</td>\n",
              "      <td>5300000.0</td>\n",
              "      <td>85637</td>\n",
              "      <td>-110.378200</td>\n",
              "      <td>31.356362</td>\n",
              "      <td>2154.00</td>\n",
              "      <td>5272.00</td>\n",
              "      <td>1941</td>\n",
              "      <td>13</td>\n",
              "      <td>10.0</td>\n",
              "      <td>10500.0</td>\n",
              "      <td>0.0</td>\n",
              "      <td>Dishwasher, Freezer, Refrigerator, Oven</td>\n",
              "      <td>6.0</td>\n",
              "      <td>Mexican Tile, Wood</td>\n",
              "      <td>0.0</td>\n",
              "    </tr>\n",
              "    <tr>\n",
              "      <th>1</th>\n",
              "      <td>21529082</td>\n",
              "      <td>4200000.0</td>\n",
              "      <td>85646</td>\n",
              "      <td>-111.045371</td>\n",
              "      <td>31.594213</td>\n",
              "      <td>1707.00</td>\n",
              "      <td>10422.36</td>\n",
              "      <td>1997</td>\n",
              "      <td>2</td>\n",
              "      <td>2.0</td>\n",
              "      <td>7300.0</td>\n",
              "      <td>0.0</td>\n",
              "      <td>Dishwasher, Garbage Disposal</td>\n",
              "      <td>5.0</td>\n",
              "      <td>Natural Stone, Other</td>\n",
              "      <td>0.0</td>\n",
              "    </tr>\n",
              "    <tr>\n",
              "      <th>3</th>\n",
              "      <td>21919321</td>\n",
              "      <td>4500000.0</td>\n",
              "      <td>85646</td>\n",
              "      <td>-111.035925</td>\n",
              "      <td>31.645878</td>\n",
              "      <td>636.67</td>\n",
              "      <td>8418.58</td>\n",
              "      <td>1930</td>\n",
              "      <td>7</td>\n",
              "      <td>5.0</td>\n",
              "      <td>9019.0</td>\n",
              "      <td>4.0</td>\n",
              "      <td>Dishwasher, Double Sink, Pantry: Butler, Refri...</td>\n",
              "      <td>4.0</td>\n",
              "      <td>Ceramic Tile, Laminate, Wood</td>\n",
              "      <td>56.0</td>\n",
              "    </tr>\n",
              "    <tr>\n",
              "      <th>4</th>\n",
              "      <td>21306357</td>\n",
              "      <td>3411450.0</td>\n",
              "      <td>85750</td>\n",
              "      <td>-110.813768</td>\n",
              "      <td>32.285162</td>\n",
              "      <td>3.21</td>\n",
              "      <td>15393.00</td>\n",
              "      <td>1995</td>\n",
              "      <td>4</td>\n",
              "      <td>6.0</td>\n",
              "      <td>6396.0</td>\n",
              "      <td>3.0</td>\n",
              "      <td>Dishwasher, Garbage Disposal, Refrigerator, Mi...</td>\n",
              "      <td>5.0</td>\n",
              "      <td>Carpet, Concrete</td>\n",
              "      <td>55.0</td>\n",
              "    </tr>\n",
              "    <tr>\n",
              "      <th>5</th>\n",
              "      <td>21528016</td>\n",
              "      <td>3250000.0</td>\n",
              "      <td>85718</td>\n",
              "      <td>-110.910593</td>\n",
              "      <td>32.339090</td>\n",
              "      <td>1.67</td>\n",
              "      <td>27802.84</td>\n",
              "      <td>1999</td>\n",
              "      <td>3</td>\n",
              "      <td>4.0</td>\n",
              "      <td>6842.0</td>\n",
              "      <td>3.0</td>\n",
              "      <td>Dishwasher, Garbage Disposal, Refrigerator, Mi...</td>\n",
              "      <td>5.0</td>\n",
              "      <td>Natural Stone, Wood, Other</td>\n",
              "      <td>422.0</td>\n",
              "    </tr>\n",
              "    <tr>\n",
              "      <th>...</th>\n",
              "      <td>...</td>\n",
              "      <td>...</td>\n",
              "      <td>...</td>\n",
              "      <td>...</td>\n",
              "      <td>...</td>\n",
              "      <td>...</td>\n",
              "      <td>...</td>\n",
              "      <td>...</td>\n",
              "      <td>...</td>\n",
              "      <td>...</td>\n",
              "      <td>...</td>\n",
              "      <td>...</td>\n",
              "      <td>...</td>\n",
              "      <td>...</td>\n",
              "      <td>...</td>\n",
              "      <td>...</td>\n",
              "    </tr>\n",
              "    <tr>\n",
              "      <th>4994</th>\n",
              "      <td>21909379</td>\n",
              "      <td>535000.0</td>\n",
              "      <td>85718</td>\n",
              "      <td>-110.922291</td>\n",
              "      <td>32.317496</td>\n",
              "      <td>0.18</td>\n",
              "      <td>4414.00</td>\n",
              "      <td>2002</td>\n",
              "      <td>3</td>\n",
              "      <td>2.0</td>\n",
              "      <td>2106.0</td>\n",
              "      <td>2.0</td>\n",
              "      <td>Dishwasher, Double Sink, Electric Range, Garba...</td>\n",
              "      <td>1.0</td>\n",
              "      <td>Ceramic Tile</td>\n",
              "      <td>198.0</td>\n",
              "    </tr>\n",
              "    <tr>\n",
              "      <th>4995</th>\n",
              "      <td>21810382</td>\n",
              "      <td>495000.0</td>\n",
              "      <td>85641</td>\n",
              "      <td>-110.661829</td>\n",
              "      <td>31.907917</td>\n",
              "      <td>4.98</td>\n",
              "      <td>2017.00</td>\n",
              "      <td>2005</td>\n",
              "      <td>5</td>\n",
              "      <td>3.0</td>\n",
              "      <td>3601.0</td>\n",
              "      <td>3.0</td>\n",
              "      <td>Dishwasher, Double Sink, Garbage Disposal, Gas...</td>\n",
              "      <td>1.0</td>\n",
              "      <td>Carpet, Ceramic Tile</td>\n",
              "      <td>56.0</td>\n",
              "    </tr>\n",
              "    <tr>\n",
              "      <th>4996</th>\n",
              "      <td>21908591</td>\n",
              "      <td>550000.0</td>\n",
              "      <td>85750</td>\n",
              "      <td>-110.858556</td>\n",
              "      <td>32.316373</td>\n",
              "      <td>1.42</td>\n",
              "      <td>4822.01</td>\n",
              "      <td>1990</td>\n",
              "      <td>4</td>\n",
              "      <td>3.0</td>\n",
              "      <td>2318.0</td>\n",
              "      <td>3.0</td>\n",
              "      <td>Dishwasher, Double Sink, Electric Range, Garba...</td>\n",
              "      <td>1.0</td>\n",
              "      <td>Carpet, Ceramic Tile</td>\n",
              "      <td>43.0</td>\n",
              "    </tr>\n",
              "    <tr>\n",
              "      <th>4997</th>\n",
              "      <td>21832452</td>\n",
              "      <td>475000.0</td>\n",
              "      <td>85192</td>\n",
              "      <td>-110.755428</td>\n",
              "      <td>32.964708</td>\n",
              "      <td>12.06</td>\n",
              "      <td>1000.00</td>\n",
              "      <td>1969</td>\n",
              "      <td>3</td>\n",
              "      <td>2.0</td>\n",
              "      <td>1772.0</td>\n",
              "      <td>0.0</td>\n",
              "      <td>Dishwasher, Electric Range, Island, Refrigerat...</td>\n",
              "      <td>0.0</td>\n",
              "      <td>Ceramic Tile</td>\n",
              "      <td>56.0</td>\n",
              "    </tr>\n",
              "    <tr>\n",
              "      <th>4998</th>\n",
              "      <td>21900515</td>\n",
              "      <td>550000.0</td>\n",
              "      <td>85745</td>\n",
              "      <td>-111.055528</td>\n",
              "      <td>32.296871</td>\n",
              "      <td>1.01</td>\n",
              "      <td>5822.93</td>\n",
              "      <td>2009</td>\n",
              "      <td>4</td>\n",
              "      <td>4.0</td>\n",
              "      <td>3724.0</td>\n",
              "      <td>3.0</td>\n",
              "      <td>Dishwasher, Double Sink, Garbage Disposal, Gas...</td>\n",
              "      <td>1.0</td>\n",
              "      <td>Carpet, Ceramic Tile</td>\n",
              "      <td>56.0</td>\n",
              "    </tr>\n",
              "  </tbody>\n",
              "</table>\n",
              "<p>4940 rows × 16 columns</p>\n",
              "</div>\n",
              "      <button class=\"colab-df-convert\" onclick=\"convertToInteractive('df-7e69a57b-35d6-4e07-aa3b-f357df411832')\"\n",
              "              title=\"Convert this dataframe to an interactive table.\"\n",
              "              style=\"display:none;\">\n",
              "        \n",
              "  <svg xmlns=\"http://www.w3.org/2000/svg\" height=\"24px\"viewBox=\"0 0 24 24\"\n",
              "       width=\"24px\">\n",
              "    <path d=\"M0 0h24v24H0V0z\" fill=\"none\"/>\n",
              "    <path d=\"M18.56 5.44l.94 2.06.94-2.06 2.06-.94-2.06-.94-.94-2.06-.94 2.06-2.06.94zm-11 1L8.5 8.5l.94-2.06 2.06-.94-2.06-.94L8.5 2.5l-.94 2.06-2.06.94zm10 10l.94 2.06.94-2.06 2.06-.94-2.06-.94-.94-2.06-.94 2.06-2.06.94z\"/><path d=\"M17.41 7.96l-1.37-1.37c-.4-.4-.92-.59-1.43-.59-.52 0-1.04.2-1.43.59L10.3 9.45l-7.72 7.72c-.78.78-.78 2.05 0 2.83L4 21.41c.39.39.9.59 1.41.59.51 0 1.02-.2 1.41-.59l7.78-7.78 2.81-2.81c.8-.78.8-2.07 0-2.86zM5.41 20L4 18.59l7.72-7.72 1.47 1.35L5.41 20z\"/>\n",
              "  </svg>\n",
              "      </button>\n",
              "      \n",
              "  <style>\n",
              "    .colab-df-container {\n",
              "      display:flex;\n",
              "      flex-wrap:wrap;\n",
              "      gap: 12px;\n",
              "    }\n",
              "\n",
              "    .colab-df-convert {\n",
              "      background-color: #E8F0FE;\n",
              "      border: none;\n",
              "      border-radius: 50%;\n",
              "      cursor: pointer;\n",
              "      display: none;\n",
              "      fill: #1967D2;\n",
              "      height: 32px;\n",
              "      padding: 0 0 0 0;\n",
              "      width: 32px;\n",
              "    }\n",
              "\n",
              "    .colab-df-convert:hover {\n",
              "      background-color: #E2EBFA;\n",
              "      box-shadow: 0px 1px 2px rgba(60, 64, 67, 0.3), 0px 1px 3px 1px rgba(60, 64, 67, 0.15);\n",
              "      fill: #174EA6;\n",
              "    }\n",
              "\n",
              "    [theme=dark] .colab-df-convert {\n",
              "      background-color: #3B4455;\n",
              "      fill: #D2E3FC;\n",
              "    }\n",
              "\n",
              "    [theme=dark] .colab-df-convert:hover {\n",
              "      background-color: #434B5C;\n",
              "      box-shadow: 0px 1px 3px 1px rgba(0, 0, 0, 0.15);\n",
              "      filter: drop-shadow(0px 1px 2px rgba(0, 0, 0, 0.3));\n",
              "      fill: #FFFFFF;\n",
              "    }\n",
              "  </style>\n",
              "\n",
              "      <script>\n",
              "        const buttonEl =\n",
              "          document.querySelector('#df-7e69a57b-35d6-4e07-aa3b-f357df411832 button.colab-df-convert');\n",
              "        buttonEl.style.display =\n",
              "          google.colab.kernel.accessAllowed ? 'block' : 'none';\n",
              "\n",
              "        async function convertToInteractive(key) {\n",
              "          const element = document.querySelector('#df-7e69a57b-35d6-4e07-aa3b-f357df411832');\n",
              "          const dataTable =\n",
              "            await google.colab.kernel.invokeFunction('convertToInteractive',\n",
              "                                                     [key], {});\n",
              "          if (!dataTable) return;\n",
              "\n",
              "          const docLinkHtml = 'Like what you see? Visit the ' +\n",
              "            '<a target=\"_blank\" href=https://colab.research.google.com/notebooks/data_table.ipynb>data table notebook</a>'\n",
              "            + ' to learn more about interactive tables.';\n",
              "          element.innerHTML = '';\n",
              "          dataTable['output_type'] = 'display_data';\n",
              "          await google.colab.output.renderOutput(dataTable, element);\n",
              "          const docLink = document.createElement('div');\n",
              "          docLink.innerHTML = docLinkHtml;\n",
              "          element.appendChild(docLink);\n",
              "        }\n",
              "      </script>\n",
              "    </div>\n",
              "  </div>\n",
              "  "
            ]
          },
          "metadata": {},
          "execution_count": 18
        }
      ]
    },
    {
      "cell_type": "code",
      "source": [
        "msno.bar(checkdata)"
      ],
      "metadata": {
        "colab": {
          "base_uri": "https://localhost:8080/",
          "height": 601
        },
        "id": "L2WD4DtYRO5r",
        "outputId": "c26b08ce-60c1-4711-e624-8e4e446d074e"
      },
      "execution_count": null,
      "outputs": [
        {
          "output_type": "execute_result",
          "data": {
            "text/plain": [
              "<matplotlib.axes._subplots.AxesSubplot at 0x7f26624765d0>"
            ]
          },
          "metadata": {},
          "execution_count": 20
        },
        {
          "output_type": "display_data",
          "data": {
            "text/plain": [
              "<Figure size 1800x720 with 3 Axes>"
            ],
            "image/png": "[encoded data removed]"
          },
          "metadata": {
            "needs_background": "light"
          }
        }
      ]
    },
    {
      "cell_type": "markdown",
      "source": [
        "# Conclusions"
      ],
      "metadata": {
        "id": "fLi-pB_XqGDs"
      }
    },
    {
      "cell_type": "markdown",
      "source": [
        "At the end, we could use dropna for 100 nan from the rest of the dataframe. A linear regression can't be use unless you add adjustments for the equation part. Substitude for mean, mode and median was easier and faster.\n"
      ],
      "metadata": {
        "id": "AqTJWQ2qqbif"
      }
    }
  ]
}